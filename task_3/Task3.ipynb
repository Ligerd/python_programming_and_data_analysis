{
 "cells": [
  {
   "cell_type": "code",
   "execution_count": 1,
   "id": "5a048195",
   "metadata": {},
   "outputs": [],
   "source": [
    "import matplotlib.pyplot as plt\n",
    "from functools import wraps\n",
    "import random"
   ]
  },
  {
   "cell_type": "markdown",
   "id": "8bec42b5",
   "metadata": {},
   "source": [
    "# Task 1"
   ]
  },
  {
   "cell_type": "code",
   "execution_count": 30,
   "id": "de2a60e2",
   "metadata": {},
   "outputs": [
    {
     "name": "stdout",
     "output_type": "stream",
     "text": [
      "[1, 17, 57, 209]\n"
     ]
    }
   ],
   "source": [
    "c = [1,2,3]\n",
    "X = [0,2,4,8]\n",
    "p = [sum([value*cord**power for power, value in enumerate(c)]) for cord in X]\n",
    "print(p)"
   ]
  },
  {
   "cell_type": "markdown",
   "id": "ac9a69f0",
   "metadata": {},
   "source": [
    "# Task 2"
   ]
  },
  {
   "cell_type": "code",
   "execution_count": 32,
   "id": "98100631",
   "metadata": {},
   "outputs": [],
   "source": [
    "n = 100\n",
    "xd = [8*x/n for x in range(n)]\n",
    "pp = [sum([value*cord**power for power, value in enumerate(c)]) for cord in xd]"
   ]
  },
  {
   "cell_type": "code",
   "execution_count": 33,
   "id": "7b60078f",
   "metadata": {},
   "outputs": [
    {
     "data": {
      "text/plain": [
       "[<matplotlib.lines.Line2D at 0x7fb83c535670>]"
      ]
     },
     "execution_count": 33,
     "metadata": {},
     "output_type": "execute_result"
    },
    {
     "data": {
      "image/png": "[encoded data removed]",
      "text/plain": [
       "<Figure size 432x288 with 1 Axes>"
      ]
     },
     "metadata": {
      "needs_background": "light"
     },
     "output_type": "display_data"
    }
   ],
   "source": [
    "plt.plot(X, p)\n",
    "plt.plot(xd, pp)"
   ]
  },
  {
   "cell_type": "markdown",
   "id": "b32b5dfd",
   "metadata": {},
   "source": [
    "# Task 3"
   ]
  },
  {
   "cell_type": "code",
   "execution_count": 4,
   "id": "a01079f5",
   "metadata": {},
   "outputs": [
    {
     "name": "stdout",
     "output_type": "stream",
     "text": [
      "thEpurposEoflifE\n"
     ]
    }
   ],
   "source": [
    "upperstr = 'thepurposeoflife'\n",
    "upperstr = ''.join( x.upper() if x==\"e\" else x for x in upperstr)\n",
    "print(upperstr)"
   ]
  },
  {
   "cell_type": "markdown",
   "id": "fb7ce92a",
   "metadata": {},
   "source": [
    "# Task 4"
   ]
  },
  {
   "cell_type": "code",
   "execution_count": 3,
   "id": "c5d9b99a",
   "metadata": {},
   "outputs": [],
   "source": [
    "records = (('Sam', 19, 'CS'),\n",
    "('Nicole', 21, 'Biochemistry'),\n",
    "('Paul', 20, 'Fine Arts'),\n",
    "('Ashley', 18, 'History'))\n",
    "def showrecords(records):\n",
    "    for record in records:\n",
    "        print('%s and %d and %s' % record)"
   ]
  },
  {
   "cell_type": "code",
   "execution_count": 4,
   "id": "ee68edf8",
   "metadata": {},
   "outputs": [
    {
     "name": "stdout",
     "output_type": "stream",
     "text": [
      "Sam and 19 and CS\n",
      "Nicole and 21 and Biochemistry\n",
      "Paul and 20 and Fine Arts\n",
      "Ashley and 18 and History\n"
     ]
    }
   ],
   "source": [
    "showrecords(records)"
   ]
  },
  {
   "cell_type": "markdown",
   "id": "e92b25b9",
   "metadata": {},
   "source": [
    "# Task 5"
   ]
  },
  {
   "cell_type": "code",
   "execution_count": 5,
   "id": "ef1c88c7",
   "metadata": {},
   "outputs": [],
   "source": [
    "def multiplier_of(n):\n",
    "    def multiplie(value):\n",
    "        return n*value\n",
    "    return multiplie"
   ]
  },
  {
   "cell_type": "code",
   "execution_count": 7,
   "id": "db54854c",
   "metadata": {},
   "outputs": [
    {
     "name": "stdout",
     "output_type": "stream",
     "text": [
      "45\n"
     ]
    }
   ],
   "source": [
    "multiply_with_5 = multiplier_of(5)\n",
    "print(multiply_with_5(9))"
   ]
  },
  {
   "cell_type": "code",
   "execution_count": 15,
   "id": "df5e6bed",
   "metadata": {},
   "outputs": [
    {
     "name": "stdout",
     "output_type": "stream",
     "text": [
      "90\n"
     ]
    }
   ],
   "source": [
    "multiply_with_45 = multiplier_of(multiply_with_5(9))\n",
    "print(multiply_with_45(2))"
   ]
  },
  {
   "cell_type": "markdown",
   "id": "1bbaee28",
   "metadata": {},
   "source": [
    "# Task 6"
   ]
  },
  {
   "cell_type": "code",
   "execution_count": 39,
   "id": "427d0868",
   "metadata": {},
   "outputs": [],
   "source": [
    "def type_check(correct_type):\n",
    "    def check(function):\n",
    "        @wraps(function)\n",
    "        def wrapper(*args, **kwargs):\n",
    "            if not isinstance(*args, correct_type):\n",
    "                print(\"Bad Type\")\n",
    "            else:\n",
    "                return function(*args, **kwargs)\n",
    "        return wrapper\n",
    "    return check"
   ]
  },
  {
   "cell_type": "code",
   "execution_count": 40,
   "id": "88a59596",
   "metadata": {},
   "outputs": [],
   "source": [
    "@type_check(int)\n",
    "def times2(num):\n",
    "    return num*2"
   ]
  },
  {
   "cell_type": "code",
   "execution_count": 41,
   "id": "04548ee9",
   "metadata": {},
   "outputs": [
    {
     "name": "stdout",
     "output_type": "stream",
     "text": [
      "4\n"
     ]
    }
   ],
   "source": [
    "print(times2(2))"
   ]
  },
  {
   "cell_type": "code",
   "execution_count": 42,
   "id": "ccc6a447",
   "metadata": {},
   "outputs": [
    {
     "name": "stdout",
     "output_type": "stream",
     "text": [
      "Bad Type\n"
     ]
    }
   ],
   "source": [
    "times2('Not A Number')"
   ]
  },
  {
   "cell_type": "code",
   "execution_count": 43,
   "id": "7c775fcf",
   "metadata": {},
   "outputs": [
    {
     "name": "stdout",
     "output_type": "stream",
     "text": [
      "H\n",
      "Bad Type\n"
     ]
    }
   ],
   "source": [
    "@type_check(str)\n",
    "def first_letter(word):\n",
    "    return word[0]\n",
    "\n",
    "print(first_letter('Hello World'))\n",
    "first_letter(['Not', 'A', 'String'])"
   ]
  },
  {
   "cell_type": "markdown",
   "id": "7afeddee",
   "metadata": {},
   "source": [
    "# Task 7"
   ]
  },
  {
   "cell_type": "code",
   "execution_count": 6,
   "id": "4859fcae",
   "metadata": {},
   "outputs": [],
   "source": [
    "PLUGINS = dict()\n",
    "def register(func):\n",
    "    PLUGINS[func.__name__] = func"
   ]
  },
  {
   "cell_type": "code",
   "execution_count": 7,
   "id": "b004cf19",
   "metadata": {},
   "outputs": [],
   "source": [
    "@register\n",
    "def say_hello(name):\n",
    "    return f\"Hello {name}\""
   ]
  },
  {
   "cell_type": "code",
   "execution_count": 8,
   "id": "3e494f70",
   "metadata": {},
   "outputs": [],
   "source": [
    "@register\n",
    "def be_awesome(name):\n",
    "    return f\"Yo {name}, together we are the awesomest!\""
   ]
  },
  {
   "cell_type": "code",
   "execution_count": 9,
   "id": "541dc37e",
   "metadata": {},
   "outputs": [],
   "source": [
    "def randomly_greet(name):\n",
    "    greeter, greeter_func = random.choice(list(PLUGINS.items()))\n",
    "    print(f\"Using {greeter!r}\")\n",
    "    return greeter_func(name)"
   ]
  },
  {
   "cell_type": "code",
   "execution_count": 15,
   "id": "f7adb671",
   "metadata": {},
   "outputs": [
    {
     "name": "stdout",
     "output_type": "stream",
     "text": [
      "Using 'be_awesome'\n"
     ]
    },
    {
     "data": {
      "text/plain": [
       "'Yo John, together we are the awesomest!'"
      ]
     },
     "execution_count": 15,
     "metadata": {},
     "output_type": "execute_result"
    }
   ],
   "source": [
    "randomly_greet('John')"
   ]
  }
 ],
 "metadata": {
  "kernelspec": {
   "display_name": "Python 3 (ipykernel)",
   "language": "python",
   "name": "python3"
  },
  "language_info": {
   "codemirror_mode": {
    "name": "ipython",
    "version": 3
   },
   "file_extension": ".py",
   "mimetype": "text/x-python",
   "name": "python",
   "nbconvert_exporter": "python",
   "pygments_lexer": "ipython3",
   "version": "3.8.10"
  }
 },
 "nbformat": 4,
 "nbformat_minor": 5
}
