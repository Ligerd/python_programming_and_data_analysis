{
 "cells": [
  {
   "cell_type": "code",
   "execution_count": 35,
   "metadata": {},
   "outputs": [],
   "source": [
    "import numpy as np\n",
    "from scipy.linalg import solve"
   ]
  },
  {
   "cell_type": "code",
   "execution_count": 121,
   "metadata": {},
   "outputs": [],
   "source": [
    "def gaussian(A,b):\n",
    "    d = np.column_stack((A , b))\n",
    "    d = d[d[:, 0].argsort()]\n",
    "    d = d//d[0,0]\n",
    "    Ae = d[0,:]\n",
    "    A_aug = Ae\n",
    "    for i in range(1, len(d)):\n",
    "            e = d[i,:]-d[0,:]*d[i,0]\n",
    "            Ae = np.vstack((Ae, e))\n",
    "    m=len(d)\n",
    "    x=2\n",
    "    d = Ae[1:]\n",
    "    z=1\n",
    "    A_aug = np.vstack((A_aug, d[0,:]))\n",
    "    Ae = A_aug\n",
    "    while x <= m-1 and z < m-1:\n",
    "        e = d[x-1,:]-d[0,:]*(d[x-1,z]/d[0,z])\n",
    "        Ae = np.vstack((Ae, e))\n",
    "        if x == m-1 and z < m-2:\n",
    "            z+=1\n",
    "            x=z\n",
    "            d = Ae[x:]\n",
    "            A_aug = np.vstack((A_aug, d[0,:]))\n",
    "        else:\n",
    "            if len(d)>2:\n",
    "                x+=1\n",
    "            else:\n",
    "                x=m+1\n",
    "    d = Ae[m-1:]\n",
    "    A_aug = np.vstack((A_aug, d[-1,:]))\n",
    "    return A_aug"
   ]
  },
  {
   "cell_type": "code",
   "execution_count": 122,
   "metadata": {},
   "outputs": [
    {
     "name": "stdout",
     "output_type": "stream",
     "text": [
      "A = [[ 1.  2.  3.  4.]\n",
      " [ 5.  6. 88. -3.]\n",
      " [ 9. 10. 11. -3.]\n",
      " [13. 14. 15. 16.]]\n",
      "Original x = [1. 1. 1. 1.]\n",
      "Right hand side for testing: b = [10. 96. 27. 58.]\n",
      "Check if A was unchanged \n",
      "Eliminated augmented matrix:\n",
      " [[   1.     2.     3.     4.    10. ]\n",
      " [   0.    -4.    73.   -23.    46. ]\n",
      " [   0.     0.  -162.     7.  -155. ]\n",
      " [   0.     0.     0.    22.5   22.5]]\n",
      "Eliminated augmented matrix A part: [[   1.     2.     3.     4. ]\n",
      " [   0.    -4.    73.   -23. ]\n",
      " [   0.     0.  -162.     7. ]\n",
      " [   0.     0.     0.    22.5]]\n",
      "Eliminated augmented matrix b part: [  10.    46.  -155.    22.5]\n"
     ]
    },
    {
     "ename": "NameError",
     "evalue": "name 'back' is not defined",
     "output_type": "error",
     "traceback": [
      "\u001b[1;31m---------------------------------------------------------------------------\u001b[0m",
      "\u001b[1;31mNameError\u001b[0m                                 Traceback (most recent call last)",
      "\u001b[1;32mC:\\Users\\1B72~1\\AppData\\Local\\Temp/ipykernel_10012/2839453006.py\u001b[0m in \u001b[0;36m<module>\u001b[1;34m\u001b[0m\n\u001b[0;32m     14\u001b[0m \u001b[0mprint\u001b[0m\u001b[1;33m(\u001b[0m\u001b[1;34mf'Eliminated augmented matrix b part: {Ae[:,Ae.shape[1]-1]}'\u001b[0m\u001b[1;33m)\u001b[0m\u001b[1;33m\u001b[0m\u001b[1;33m\u001b[0m\u001b[0m\n\u001b[0;32m     15\u001b[0m \u001b[1;31m# Find solution\u001b[0m\u001b[1;33m\u001b[0m\u001b[1;33m\u001b[0m\u001b[1;33m\u001b[0m\u001b[0m\n\u001b[1;32m---> 16\u001b[1;33m \u001b[0mx\u001b[0m \u001b[1;33m=\u001b[0m \u001b[0mback\u001b[0m\u001b[1;33m(\u001b[0m\u001b[0mAe\u001b[0m\u001b[1;33m[\u001b[0m\u001b[1;33m:\u001b[0m\u001b[1;33m,\u001b[0m\u001b[1;33m:\u001b[0m\u001b[1;33m-\u001b[0m\u001b[1;36m1\u001b[0m\u001b[1;33m]\u001b[0m\u001b[1;33m,\u001b[0m\u001b[0mAe\u001b[0m\u001b[1;33m[\u001b[0m\u001b[1;33m:\u001b[0m\u001b[1;33m,\u001b[0m\u001b[0mAe\u001b[0m\u001b[1;33m.\u001b[0m\u001b[0mshape\u001b[0m\u001b[1;33m[\u001b[0m\u001b[1;36m1\u001b[0m\u001b[1;33m]\u001b[0m\u001b[1;33m-\u001b[0m\u001b[1;36m1\u001b[0m\u001b[1;33m]\u001b[0m\u001b[1;33m)\u001b[0m\u001b[1;33m\u001b[0m\u001b[1;33m\u001b[0m\u001b[0m\n\u001b[0m\u001b[0;32m     17\u001b[0m \u001b[0mprint\u001b[0m\u001b[1;33m(\u001b[0m\u001b[1;34mf'Solution: {x}'\u001b[0m\u001b[1;33m)\u001b[0m\u001b[1;33m\u001b[0m\u001b[1;33m\u001b[0m\u001b[0m\n",
      "\u001b[1;31mNameError\u001b[0m: name 'back' is not defined"
     ]
    }
   ],
   "source": [
    "A = np.arange(1, 17, dtype=np.float64).reshape(4,4)\n",
    "A[1,2] = 88\n",
    "A[1,3] = -3\n",
    "A[2,3] = -3\n",
    "print(f'A = {A}')\n",
    "x = np.ones(A.shape[0])\n",
    "print(f'Original x = {x}')\n",
    "b = A @ x.T\n",
    "print(f'Right hand side for testing: b = {b}')\n",
    "Ae = gaussian(A, b)\n",
    "print(f'Check if A was unchanged ')\n",
    "print(f'Eliminated augmented matrix:\\n {Ae}')\n",
    "print(f'Eliminated augmented matrix A part: {Ae[:,:-1]}')\n",
    "print(f'Eliminated augmented matrix b part: {Ae[:,Ae.shape[1]-1]}')\n",
    "# Find solution\n",
    "x = back(Ae[:,:-1],Ae[:,Ae.shape[1]-1])\n",
    "print(f'Solution: {x}')"
   ]
  }
 ],
 "metadata": {
  "interpreter": {
   "hash": "744f09b387bbb0f9e71bd92782b46d7d9cb5eb435d734955ea16ad78a2643f3b"
  },
  "kernelspec": {
   "display_name": "Python 3.8.8 64-bit",
   "language": "python",
   "name": "python3"
  },
  "language_info": {
   "codemirror_mode": {
    "name": "ipython",
    "version": 3
   },
   "file_extension": ".py",
   "mimetype": "text/x-python",
   "name": "python",
   "nbconvert_exporter": "python",
   "pygments_lexer": "ipython3",
   "version": "3.8.8"
  },
  "orig_nbformat": 4
 },
 "nbformat": 4,
 "nbformat_minor": 2
}
