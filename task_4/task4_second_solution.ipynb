{
 "cells": [
  {
   "cell_type": "code",
<<<<<<< HEAD
   "execution_count": 91,
=======
   "execution_count": 1,
>>>>>>> 8eb542459646f058344eb935801315d4a46997e3
   "metadata": {},
   "outputs": [
    {
     "ename": "ModuleNotFoundError",
     "evalue": "No module named 'scipy'",
     "output_type": "error",
     "traceback": [
      "\u001b[0;31m---------------------------------------------------------------------------\u001b[0m",
      "\u001b[0;31mModuleNotFoundError\u001b[0m                       Traceback (most recent call last)",
      "Input \u001b[0;32mIn [1]\u001b[0m, in \u001b[0;36m<cell line: 2>\u001b[0;34m()\u001b[0m\n\u001b[1;32m      1\u001b[0m \u001b[38;5;28;01mimport\u001b[39;00m \u001b[38;5;21;01mnumpy\u001b[39;00m \u001b[38;5;28;01mas\u001b[39;00m \u001b[38;5;21;01mnp\u001b[39;00m\n\u001b[0;32m----> 2\u001b[0m \u001b[38;5;28;01mfrom\u001b[39;00m \u001b[38;5;21;01mscipy\u001b[39;00m\u001b[38;5;21;01m.\u001b[39;00m\u001b[38;5;21;01mlinalg\u001b[39;00m \u001b[38;5;28;01mimport\u001b[39;00m solve\n",
      "\u001b[0;31mModuleNotFoundError\u001b[0m: No module named 'scipy'"
     ]
    }
   ],
   "source": [
    "import numpy as np\n",
    "from scipy.linalg import solve"
   ]
  },
  {
   "cell_type": "code",
<<<<<<< HEAD
   "execution_count": 109,
   "metadata": {},
   "outputs": [
    {
     "name": "stdout",
     "output_type": "stream",
     "text": [
      "A = [[ 1.  2.  3.  4.]\n",
      " [ 5.  6. 88. -3.]\n",
      " [ 9. 10. 11. -3.]\n",
      " [13. 14. 15. 16.]]\n",
      "B = [10. 96. 27. 58.]\n",
      "[[  1.   2.   3.   4.  10.]\n",
      " [  0.  -4.  73. -23.  46.]]\n",
      "[[   1.    2.    3.    4.   10.]\n",
      " [   0.   -4.   73.  -23.   46.]\n",
      " [   0.    0. -162.    7. -155.]]\n",
      "[[   0.    0. -162.    7. -155.]\n",
      " [   0.    0. -243.   33. -210.]]\n",
      "[ 0.   0.   0.  22.5 22.5]\n",
      "[   0.    0. -243.   33. -210.]\n",
      "[[   0.    0. -162.    7. -155.]\n",
      " [   0.    0. -243.   33. -210.]]\n"
     ]
    }
   ],
   "source": [
    " A = np.arange(1, 17, dtype=np.float64).reshape(4,4)\n",
    "A[1,2] = 88\n",
    "A[1,3] = -3\n",
    "A[2,3] = -3\n",
    "print(f'A = {A}')\n",
    "x = np.ones(A.shape[0])\n",
    "# print(f'Original x = {x}')\n",
    "B = A @ x.T\n",
    "print(f'B = {B}')\n",
    "# print(type(B))\n",
    "d = np.column_stack((A , B))\n",
    "# print(d)\n",
    "# print(np.amin(d[:,0])) \n",
    "# c = d[0,:]\n",
    "# c = c / c[0]\n",
    "# print(c)\n",
    "# сортируем массив по 1 столбцу(0)\n",
    "d = d[d[:, 0].argsort()]\n",
    "\n",
    "#  приводим первый элемент массива к \"1\"\n",
    "d = d//d[0,0]\n",
    "Ae = d[0,:]\n",
    "e = d[1,:]-d[0,:]*d[1,0]\n",
    "f = d[2,:]-d[0,:]*d[2,0]\n",
    "g = d[3,:]-d[0,:]*d[3,0]\n",
    "d =np.vstack((e,f,g)) # получаем новый массив без первой строки\n",
    "# h = h[h[:, 1].argsort()]  нужно отсортировать по второму столбцу по модулю\n",
    "# sa = np.sort(d, order=d[0])\n",
    "Ae = np.vstack((Ae, e)) # записывае первую строку массива\n",
    "print(Ae)\n",
    "# d = d//abs(d[0,1])\n",
    "\n",
    "\n",
    "e = d[1,:]-d[0,:]*(d[1,1]/d[0,1])\n",
    "f = d[2,:]-d[0,:]*(d[2,1]/d[0,1])\n",
    "\n",
    "\n",
    "d =np.vstack((e,f))\n",
    "Ae = np.vstack((Ae, e)) # записывае первую строку массива\n",
    "print(Ae)\n",
    "print(d)\n",
    "e = d[1,:]-d[0,:]*(d[1,2]/d[0,2])\n",
    "\n",
    "print(e)\n",
    "print(f)\n",
    "print(d)\n",
    "# \n",
    "\n"
   ]
  },
  {
   "cell_type": "code",
   "execution_count": 46,
=======
   "execution_count": 55,
>>>>>>> 8eb542459646f058344eb935801315d4a46997e3
   "metadata": {},
   "outputs": [],
   "source": [
    "def FancyPrint(A, B, selected):\n",
    "    for row in range(len(B)):\n",
    "        print(\"(\", end='')\n",
    "        for col in range(len(A[row])):\n",
    "             print(\"\\t{1:10.2f}{0}\".format(\" \" if (selected is None or selected != (row, col)) else \"*\", A[row][col]), end='')\n",
    "        print(\"\\t) * (\\tX{0}) = (\\t{1:10.2f})\".format(row + 1, B[row]))\n",
    "# --- end of вывод системы на экран\n",
    "\n",
    "# --- перемена местами двух строк системы\n",
    "def SwapRows(A, B, row1, row2):\n",
    "    A[[row1, row2]] = A[[row2, row1]]\n",
    "#     A[row1], A[row2] = A[row2], A[row1]\n",
    "    B[[row1, row2]] = B[[row2, row1]]\n",
    "#     return A, B\n",
    "# --- end of перемена местами двух строк системы\n",
    "\n",
    "# --- деление строки системы на число\n",
    "def DivideRow(A, B, row, divider):\n",
    "    A[row] = [a / divider for a in A[row]]\n",
    "    B[row] /= divider\n",
    "# --- end of деление строки системы на число\n",
    "\n",
    "# --- сложение строки системы с другой строкой, умноженной на число\n",
    "def CombineRows(A, B, row, source_row, weight):\n",
    "    A[row] = [(a + k * weight) for a, k in zip(A[row], A[source_row])]\n",
    "    B[row] += B[source_row] * weight\n",
    "# --- end of сложение строки системы с другой строкой, умноженной начисло\n",
    "\n",
    "# --- решение системы методом Гаусса (приведением к треугольному виду)\n",
    "def Gauss(A, B):\n",
    "    column = 0\n",
    "    while (column < len(B)):\n",
    "        print(\"Ищем максимальный по модулю элемент в {0}-м столбце:\".format(column + 1))\n",
    "        current_row = None\n",
    "        for r in range(column, len(A)):\n",
    "            if current_row is None or abs(A[r][column]) > abs(A[current_row][column]):\n",
    "                 current_row = r\n",
    "        if current_row is None:\n",
    "            print(\"решений нет\")\n",
    "            return None\n",
    "        FancyPrint(A, B, (current_row, column))\n",
    "        if current_row != column:\n",
    "            print(\"Переставляем строку с найденным элементом повыше:\")\n",
    "            SwapRows(A, B, current_row, column)\n",
    "            FancyPrint(A, B, (column, column))\n",
    "        print(\"Нормализуем строку с найденным элементом:\")\n",
    "        DivideRow(A, B, column, A[column][column])\n",
    "        FancyPrint(A, B, (column, column))\n",
    "        print(\"Обрабатываем нижележащие строки:\")\n",
    "        for r in range(column + 1, len(A)):\n",
    "            CombineRows(A, B, r, column, -A[r][column])\n",
    "        FancyPrint(A, B, (column, column))\n",
    "        column += 1\n",
    "    print(\"Матрица приведена к треугольному виду, считаем решение\")\n",
    "    X = [0 for b in B]\n",
    "    for i in range(len(B) - 1, -1, -1):\n",
    "        X[i] = B[i] - sum(x * a for x, a in zip(X[(i + 1):], A[i][(i + 1):]))\n",
    "    print(\"Получили ответ:\")\n",
    "    print(\"\\n\".join(\"X{0} =\\t{1:10.2f}\".format(i + 1, x) for i, x in\n",
    "enumerate(X)))\n",
    "    return X"
   ]
  },
  {
   "cell_type": "code",
<<<<<<< HEAD
   "execution_count": null,
   "metadata": {},
   "outputs": [],
   "source": [
    " A = [\n",
    "    [1.,  2.,  3.,  4.,],\n",
    "    [ 5.,  6., 88., -3.,], \n",
    "    [ 9., 10., 11., -3.,], \n",
    "    [13., 14., 15., 16.,]]\n",
    "B = [10., 96., 27., 58.,]\n",
    "Gauss(A, B)"
   ]
  },
  {
   "cell_type": "code",
   "execution_count": 50,
   "metadata": {},
   "outputs": [],
   "source": [
    "def FancyPrint(A, B, selected):\n",
    "    for row in range(len(B)):\n",
    "        print(\"(\", end='')\n",
    "        for col in range(len(A[row])):\n",
    "             print(\"\\t{1:10.2f}{0}\".format(\" \" if (selected is None or selected != (row, col)) else \"*\", A[row][col]), end='')\n",
    "        print(\"\\t) * (\\tX{0}) = (\\t{1:10.2f})\".format(row + 1, B[row]))\n",
    "# --- end of вывод системы на экран\n",
    "\n",
    "# --- перемена местами двух строк системы\n",
    "def SwapRows(A, B, row1, row2):\n",
    "    A[row1], A[row2] = A[row2], A[row1]\n",
    "    B[row1], B[row2] = B[row2], B[row1]\n",
    "# --- end of перемена местами двух строк системы\n",
    "\n",
    "# --- деление строки системы на число\n",
    "def DivideRow(A, B, row, divider):\n",
    "    A[row] = [a / divider for a in A[row]]\n",
    "    B[row] /= divider\n",
    "# --- end of деление строки системы на число\n",
    "\n",
    "# --- сложение строки системы с другой строкой, умноженной на число\n",
    "def CombineRows(A, B, row, source_row, weight):\n",
    "    A[row] = [(a + k * weight) for a, k in zip(A[row], A[source_row])]\n",
    "    B[row] += B[source_row] * weight\n",
    "# --- end of сложение строки системы с другой строкой, умноженной начисло\n",
    "\n",
    "# --- решение системы методом Гаусса (приведением к треугольному виду)\n",
    "def Gauss(A, B):\n",
    "    column = 0\n",
    "    while (column < len(B)):\n",
    "        print(\"Ищем максимальный по модулю элемент в {0}-м столбце:\".format(column + 1))\n",
    "        current_row = None\n",
    "        for r in range(column, len(A)):\n",
    "            if current_row is None or abs(A[r][column]) < abs(A[current_row][column]):\n",
    "                 current_row = r\n",
    "        if current_row is None:\n",
    "            print(\"решений нет\")\n",
    "            return None\n",
    "        FancyPrint(A, B, (current_row, column))\n",
    "        if current_row != column:\n",
    "            print(\"Переставляем строку с найденным элементом повыше:\")\n",
    "            SwapRows(A, B, current_row, column)\n",
    "            FancyPrint(A, B, (column, column))\n",
    "        # print(\"Нормализуем строку с найденным элементом:\")\n",
    "        # DivideRow(A, B, column, A[column][column])\n",
    "        FancyPrint(A, B, (column, column))\n",
    "        print(\"Обрабатываем нижележащие строки:\")\n",
    "        for r in range(column + 1, len(A)):\n",
    "            CombineRows(A, B, r, column, -A[r][column])\n",
    "        FancyPrint(A, B, (column, column))\n",
    "        column += 1\n",
    "    print(\"Матрица приведена к треугольному виду, считаем решение\")\n",
    "    X = [0 for b in B]\n",
    "    for i in range(len(B) - 1, -1, -1):\n",
    "        X[i] = B[i] - sum(x * a for x, a in zip(X[(i + 1):], A[i][(i + 1):]))\n",
    "    print(\"Получили ответ:\")\n",
    "    print(\"\\n\".join(\"X{0} =\\t{1:10.2f}\".format(i + 1, x) for i, x in\n",
    "enumerate(X)))\n",
    "    return X"
   ]
  },
  {
   "cell_type": "code",
   "execution_count": null,
   "metadata": {},
   "outputs": [],
   "source": [
    " A = [\n",
    "    [1.,  2.,  3.,  4.,],\n",
    "    [ 5.,  6., 88., -3.,], \n",
    "    [ 9., 10., 11., -3.,], \n",
    "    [13., 14., 15., 16.,]]\n",
    "B = [10., 96., 27., 58.,]\n",
    "Gauss(A, B)"
   ]
  },
  {
   "cell_type": "code",
   "execution_count": 30,
   "metadata": {},
=======
   "execution_count": 31,
   "metadata": {},
   "outputs": [
    {
     "name": "stdout",
     "output_type": "stream",
     "text": [
      "[[1.0, 2.0, 3.0, 4.0], [5.0, 6.0, 88.0, -3.0], [9.0, 10.0, 11.0, -3.0], [13.0, 14.0, 15.0, 16.0]]\n",
      "[10.0, 96.0, 27.0, 58.0]\n"
     ]
    }
   ],
   "source": [
    "A = [\n",
    "    [1.,  2.,  3.,  4.,],\n",
    " [ 5.,  6., 88., -3.,],\n",
    " [ 9., 10., 11., -3.,],\n",
    " [13., 14., 15., 16.,],\n",
    " ]\n",
    "B = [10., 96., 27., 58.,]\n",
    "print(A)\n",
    "print(B)\n",
    "# print(SwapRows(A,B,1,1))"
   ]
  },
  {
   "cell_type": "code",
   "execution_count": 36,
   "metadata": {},
   "outputs": [],
   "source": [
    "out1, out2 = SwapRows(A,B,1,2)"
   ]
  },
  {
   "cell_type": "code",
   "execution_count": 37,
   "metadata": {},
   "outputs": [
    {
     "name": "stdout",
     "output_type": "stream",
     "text": [
      "[[1.0, 2.0, 3.0, 4.0], [9.0, 10.0, 11.0, -3.0], [5.0, 6.0, 88.0, -3.0], [13.0, 14.0, 15.0, 16.0]]\n"
     ]
    }
   ],
   "source": [
    "print(out1)"
   ]
  },
  {
   "cell_type": "code",
   "execution_count": 38,
   "metadata": {},
   "outputs": [
    {
     "name": "stdout",
     "output_type": "stream",
     "text": [
      "[10.0, 27.0, 96.0, 58.0]\n"
     ]
    }
   ],
   "source": [
    "print(out2)"
   ]
  },
  {
   "cell_type": "code",
   "execution_count": null,
   "metadata": {},
   "outputs": [],
   "source": []
  },
  {
   "cell_type": "code",
   "execution_count": 51,
   "metadata": {},
   "outputs": [
    {
     "name": "stdout",
     "output_type": "stream",
     "text": [
      "A = [[ 1.  2.  3.  4.]\n",
      " [ 5.  6. 88. -3.]\n",
      " [ 9. 10. 11. -3.]\n",
      " [13. 14. 15. 16.]]\n",
      "Original x = [1. 1. 1. 1.]\n"
     ]
    }
   ],
   "source": [
    "A = np.arange(1, 17, dtype=np.float64).reshape(4,4)\n",
    "A[1,2] = 88\n",
    "A[1,3] = -3\n",
    "A[2,3] = -3\n",
    "print(f'A = {A}')\n",
    "x = np.ones(A.shape[0])\n",
    "print(f'Original x = {x}')\n",
    "B = A @ x.T"
   ]
  },
  {
   "cell_type": "code",
   "execution_count": 52,
   "metadata": {},
   "outputs": [
    {
     "name": "stdout",
     "output_type": "stream",
     "text": [
      "[[ 1.  2.  3.  4.]\n",
      " [ 5.  6. 88. -3.]\n",
      " [ 9. 10. 11. -3.]\n",
      " [13. 14. 15. 16.]]\n",
      "[10. 96. 27. 58.]\n"
     ]
    }
   ],
   "source": [
    "print(A)\n",
    "print(B)"
   ]
  },
  {
   "cell_type": "code",
   "execution_count": 53,
   "metadata": {},
   "outputs": [],
   "source": [
    "B[[0, 1]] = B[[1, 0]]"
   ]
  },
  {
   "cell_type": "code",
   "execution_count": 54,
   "metadata": {},
   "outputs": [
    {
     "data": {
      "text/plain": [
       "array([96., 10., 27., 58.])"
      ]
     },
     "execution_count": 54,
     "metadata": {},
     "output_type": "execute_result"
    }
   ],
   "source": [
    "B"
   ]
  },
  {
   "cell_type": "code",
   "execution_count": 50,
   "metadata": {},
   "outputs": [
    {
     "data": {
      "text/plain": [
       "array([96., 96., 27., 58.])"
      ]
     },
     "execution_count": 50,
     "metadata": {},
     "output_type": "execute_result"
    }
   ],
   "source": [
    "B"
   ]
  },
  {
   "cell_type": "code",
   "execution_count": 46,
   "metadata": {},
   "outputs": [
    {
     "data": {
      "text/plain": [
       "array([[ 5.,  6., 88., -3.],\n",
       "       [ 5.,  6., 88., -3.],\n",
       "       [ 9., 10., 11., -3.],\n",
       "       [13., 14., 15., 16.]])"
      ]
     },
     "execution_count": 46,
     "metadata": {},
     "output_type": "execute_result"
    }
   ],
   "source": [
    "A"
   ]
  },
  {
   "cell_type": "code",
   "execution_count": 41,
   "metadata": {},
   "outputs": [],
   "source": [
    "out1, out2 = SwapRows(A,B,1,2)"
   ]
  },
  {
   "cell_type": "code",
   "execution_count": 42,
   "metadata": {},
   "outputs": [
    {
     "name": "stdout",
     "output_type": "stream",
     "text": [
      "[[ 1.  2.  3.  4.]\n",
      " [ 9. 10. 11. -3.]\n",
      " [ 9. 10. 11. -3.]\n",
      " [13. 14. 15. 16.]]\n",
      "[10. 27. 96. 58.]\n"
     ]
    }
   ],
   "source": [
    "print(out1)\n",
    "print(out2)"
   ]
  },
  {
   "cell_type": "code",
   "execution_count": null,
   "metadata": {},
   "outputs": [],
   "source": []
  },
  {
   "cell_type": "code",
   "execution_count": 57,
   "metadata": {},
>>>>>>> 8eb542459646f058344eb935801315d4a46997e3
   "outputs": [
    {
     "name": "stdout",
     "output_type": "stream",
     "text": [
<<<<<<< HEAD
      "4\n"
     ]
    }
   ],
   "source": [
    "matrix_origin \n",
    "matrix_origin = np.arange(1, 17, dtype=np.float64).reshape(4,4)\n",
    "matrix_origin[1,2] = 88\n",
    "matrix_origin[1,3] = -3\n",
    "matrix_origin[2,3] = -3\n",
    "print(len(matrix_origin))\n",
    "\n",
    "def pick_nonzero_row(m, k):\n",
    "    while k < m.shape[0] and not m[k, k]:\n",
    "        k += 1\n",
    "    return k"
   ]
  },
  {
   "cell_type": "code",
   "execution_count": 39,
   "metadata": {},
   "outputs": [],
   "source": [
    "def Gauss(matrix_origin):\n",
    "    \n",
    "    m = np.hstack((matrix_origin, np.matrix(np.diag([1.0 for i in range(matrix_origin.shape[0])]))))\n",
    "    # forward trace\n",
    "    for k in range(len(matrix_origin)):\n",
    "        # 1) Swap k-row with one of the underlying if m[k, k] = 0\n",
    "        swap_row = pick_nonzero_row(m, k)\n",
    "        if swap_row != k:\n",
    "            m[k, :], m[swap_row, :] = m[swap_row, :], np.copy(m[k, :])\n",
    "        # 2) Make diagonal element equals to 1\n",
    "        if m[k, k] != 1:\n",
    "            m[k, :] *= 1 / m[k, k]\n",
    "        # 3) Make all underlying elements in column equal to zero\n",
    "        for row in range(k + 1, len(matrix_origin)):\n",
    "            m[row, :] -= m[k, :] * m[row, k]\n",
    "     # backward trace\n",
    "    for k in range(len(matrix_origin) - 1, 0, -1):\n",
    "        for row in range(k - 1, -1, -1):\n",
    "            if m[row, k]:\n",
    "                # 1) Make all overlying elements equal to zero in the former identity matrix\n",
    "                m[row, :] -= m[k, :] * m[row, k]   \n",
    "        \n",
    "    return (np.hsplit(m,len(matrix_origin) // 2)[1])"
   ]
  },
  {
   "cell_type": "code",
   "execution_count": 40,
   "metadata": {},
   "outputs": [
=======
      "A = [[ 1.  2.  3.  4.]\n",
      " [ 5.  6. 88. -3.]\n",
      " [ 9. 10. 11. -3.]\n",
      " [13. 14. 15. 16.]]\n",
      "Original x = [1. 1. 1. 1.]\n",
      "Right hand side for testing: B = [10. 96. 27. 58.]\n",
      "Ищем максимальный по модулю элемент в 1-м столбце:\n",
      "(\t      1.00 \t      2.00 \t      3.00 \t      4.00 \t) * (\tX1) = (\t     10.00)\n",
      "(\t      5.00 \t      6.00 \t     88.00 \t     -3.00 \t) * (\tX2) = (\t     96.00)\n",
      "(\t      9.00 \t     10.00 \t     11.00 \t     -3.00 \t) * (\tX3) = (\t     27.00)\n",
      "(\t     13.00*\t     14.00 \t     15.00 \t     16.00 \t) * (\tX4) = (\t     58.00)\n",
      "Переставляем строку с найденным элементом повыше:\n",
      "(\t     13.00*\t     14.00 \t     15.00 \t     16.00 \t) * (\tX1) = (\t     58.00)\n",
      "(\t      5.00 \t      6.00 \t     88.00 \t     -3.00 \t) * (\tX2) = (\t     96.00)\n",
      "(\t      9.00 \t     10.00 \t     11.00 \t     -3.00 \t) * (\tX3) = (\t     27.00)\n",
      "(\t      1.00 \t      2.00 \t      3.00 \t      4.00 \t) * (\tX4) = (\t     10.00)\n",
      "Нормализуем строку с найденным элементом:\n",
      "(\t      1.00*\t      1.08 \t      1.15 \t      1.23 \t) * (\tX1) = (\t      4.46)\n",
      "(\t      5.00 \t      6.00 \t     88.00 \t     -3.00 \t) * (\tX2) = (\t     96.00)\n",
      "(\t      9.00 \t     10.00 \t     11.00 \t     -3.00 \t) * (\tX3) = (\t     27.00)\n",
      "(\t      1.00 \t      2.00 \t      3.00 \t      4.00 \t) * (\tX4) = (\t     10.00)\n",
      "Обрабатываем нижележащие строки:\n",
      "(\t      1.00*\t      1.08 \t      1.15 \t      1.23 \t) * (\tX1) = (\t      4.46)\n",
      "(\t      0.00 \t      0.62 \t     82.23 \t     -9.15 \t) * (\tX2) = (\t     73.69)\n",
      "(\t      0.00 \t      0.31 \t      0.62 \t    -14.08 \t) * (\tX3) = (\t    -13.15)\n",
      "(\t      0.00 \t      0.92 \t      1.85 \t      2.77 \t) * (\tX4) = (\t      5.54)\n",
      "Ищем максимальный по модулю элемент в 2-м столбце:\n",
      "(\t      1.00 \t      1.08 \t      1.15 \t      1.23 \t) * (\tX1) = (\t      4.46)\n",
      "(\t      0.00 \t      0.62 \t     82.23 \t     -9.15 \t) * (\tX2) = (\t     73.69)\n",
      "(\t      0.00 \t      0.31 \t      0.62 \t    -14.08 \t) * (\tX3) = (\t    -13.15)\n",
      "(\t      0.00 \t      0.92*\t      1.85 \t      2.77 \t) * (\tX4) = (\t      5.54)\n",
      "Переставляем строку с найденным элементом повыше:\n",
      "(\t      1.00 \t      1.08 \t      1.15 \t      1.23 \t) * (\tX1) = (\t      4.46)\n",
      "(\t      0.00 \t      0.92*\t      1.85 \t      2.77 \t) * (\tX2) = (\t      5.54)\n",
      "(\t      0.00 \t      0.31 \t      0.62 \t    -14.08 \t) * (\tX3) = (\t    -13.15)\n",
      "(\t      0.00 \t      0.62 \t     82.23 \t     -9.15 \t) * (\tX4) = (\t     73.69)\n",
      "Нормализуем строку с найденным элементом:\n",
      "(\t      1.00 \t      1.08 \t      1.15 \t      1.23 \t) * (\tX1) = (\t      4.46)\n",
      "(\t      0.00 \t      1.00*\t      2.00 \t      3.00 \t) * (\tX2) = (\t      6.00)\n",
      "(\t      0.00 \t      0.31 \t      0.62 \t    -14.08 \t) * (\tX3) = (\t    -13.15)\n",
      "(\t      0.00 \t      0.62 \t     82.23 \t     -9.15 \t) * (\tX4) = (\t     73.69)\n",
      "Обрабатываем нижележащие строки:\n",
      "(\t      1.00 \t      1.08 \t      1.15 \t      1.23 \t) * (\tX1) = (\t      4.46)\n",
      "(\t      0.00 \t      1.00*\t      2.00 \t      3.00 \t) * (\tX2) = (\t      6.00)\n",
      "(\t      0.00 \t      0.00 \t      0.00 \t    -15.00 \t) * (\tX3) = (\t    -15.00)\n",
      "(\t      0.00 \t      0.00 \t     81.00 \t    -11.00 \t) * (\tX4) = (\t     70.00)\n",
      "Ищем максимальный по модулю элемент в 3-м столбце:\n",
      "(\t      1.00 \t      1.08 \t      1.15 \t      1.23 \t) * (\tX1) = (\t      4.46)\n",
      "(\t      0.00 \t      1.00 \t      2.00 \t      3.00 \t) * (\tX2) = (\t      6.00)\n",
      "(\t      0.00 \t      0.00 \t      0.00 \t    -15.00 \t) * (\tX3) = (\t    -15.00)\n",
      "(\t      0.00 \t      0.00 \t     81.00*\t    -11.00 \t) * (\tX4) = (\t     70.00)\n",
      "Переставляем строку с найденным элементом повыше:\n",
      "(\t      1.00 \t      1.08 \t      1.15 \t      1.23 \t) * (\tX1) = (\t      4.46)\n",
      "(\t      0.00 \t      1.00 \t      2.00 \t      3.00 \t) * (\tX2) = (\t      6.00)\n",
      "(\t      0.00 \t      0.00 \t     81.00*\t    -11.00 \t) * (\tX3) = (\t     70.00)\n",
      "(\t      0.00 \t      0.00 \t      0.00 \t    -15.00 \t) * (\tX4) = (\t    -15.00)\n",
      "Нормализуем строку с найденным элементом:\n",
      "(\t      1.00 \t      1.08 \t      1.15 \t      1.23 \t) * (\tX1) = (\t      4.46)\n",
      "(\t      0.00 \t      1.00 \t      2.00 \t      3.00 \t) * (\tX2) = (\t      6.00)\n",
      "(\t      0.00 \t      0.00 \t      1.00*\t     -0.14 \t) * (\tX3) = (\t      0.86)\n",
      "(\t      0.00 \t      0.00 \t      0.00 \t    -15.00 \t) * (\tX4) = (\t    -15.00)\n",
      "Обрабатываем нижележащие строки:\n",
      "(\t      1.00 \t      1.08 \t      1.15 \t      1.23 \t) * (\tX1) = (\t      4.46)\n",
      "(\t      0.00 \t      1.00 \t      2.00 \t      3.00 \t) * (\tX2) = (\t      6.00)\n",
      "(\t      0.00 \t      0.00 \t      1.00*\t     -0.14 \t) * (\tX3) = (\t      0.86)\n",
      "(\t      0.00 \t      0.00 \t      0.00 \t    -15.00 \t) * (\tX4) = (\t    -15.00)\n",
      "Ищем максимальный по модулю элемент в 4-м столбце:\n",
      "(\t      1.00 \t      1.08 \t      1.15 \t      1.23 \t) * (\tX1) = (\t      4.46)\n",
      "(\t      0.00 \t      1.00 \t      2.00 \t      3.00 \t) * (\tX2) = (\t      6.00)\n",
      "(\t      0.00 \t      0.00 \t      1.00 \t     -0.14 \t) * (\tX3) = (\t      0.86)\n",
      "(\t      0.00 \t      0.00 \t      0.00 \t    -15.00*\t) * (\tX4) = (\t    -15.00)\n",
      "Нормализуем строку с найденным элементом:\n",
      "(\t      1.00 \t      1.08 \t      1.15 \t      1.23 \t) * (\tX1) = (\t      4.46)\n",
      "(\t      0.00 \t      1.00 \t      2.00 \t      3.00 \t) * (\tX2) = (\t      6.00)\n",
      "(\t      0.00 \t      0.00 \t      1.00 \t     -0.14 \t) * (\tX3) = (\t      0.86)\n",
      "(\t     -0.00 \t     -0.00 \t     -0.00 \t      1.00*\t) * (\tX4) = (\t      1.00)\n",
      "Обрабатываем нижележащие строки:\n",
      "(\t      1.00 \t      1.08 \t      1.15 \t      1.23 \t) * (\tX1) = (\t      4.46)\n",
      "(\t      0.00 \t      1.00 \t      2.00 \t      3.00 \t) * (\tX2) = (\t      6.00)\n",
      "(\t      0.00 \t      0.00 \t      1.00 \t     -0.14 \t) * (\tX3) = (\t      0.86)\n",
      "(\t     -0.00 \t     -0.00 \t     -0.00 \t      1.00*\t) * (\tX4) = (\t      1.00)\n",
      "Матрица приведена к треугольному виду, считаем решение\n",
      "Получили ответ:\n",
      "X1 =\t      1.00\n",
      "X2 =\t      1.00\n",
      "X3 =\t      1.00\n",
      "X4 =\t      1.00\n",
      "<class 'list'>\n",
      "Check if A was unchanged \n",
      "Eliminated augmented matrix:\n",
      " [1.0000000000000009, 0.9999999999999991, 1.0, 1.0000000000000002]\n"
     ]
    },
>>>>>>> 8eb542459646f058344eb935801315d4a46997e3
    {
     "ename": "IndexError",
     "evalue": "index 4 is out of bounds for axis 0 with size 4",
     "output_type": "error",
     "traceback": [
<<<<<<< HEAD
      "\u001b[1;31m---------------------------------------------------------------------------\u001b[0m",
      "\u001b[1;31mIndexError\u001b[0m                                Traceback (most recent call last)",
      "\u001b[1;32mC:\\Users\\1B72~1\\AppData\\Local\\Temp/ipykernel_2112/1031600612.py\u001b[0m in \u001b[0;36m<module>\u001b[1;34m\u001b[0m\n\u001b[1;32m----> 1\u001b[1;33m \u001b[0mGauss\u001b[0m\u001b[1;33m(\u001b[0m\u001b[0mmatrix_origin\u001b[0m\u001b[1;33m)\u001b[0m\u001b[1;33m\u001b[0m\u001b[1;33m\u001b[0m\u001b[0m\n\u001b[0m",
      "\u001b[1;32mC:\\Users\\1B72~1\\AppData\\Local\\Temp/ipykernel_2112/1782890041.py\u001b[0m in \u001b[0;36mGauss\u001b[1;34m(matrix_origin)\u001b[0m\n\u001b[0;32m     19\u001b[0m             \u001b[1;32mif\u001b[0m \u001b[0mm\u001b[0m\u001b[1;33m[\u001b[0m\u001b[0mrow\u001b[0m\u001b[1;33m,\u001b[0m \u001b[0mk\u001b[0m\u001b[1;33m]\u001b[0m\u001b[1;33m:\u001b[0m\u001b[1;33m\u001b[0m\u001b[1;33m\u001b[0m\u001b[0m\n\u001b[0;32m     20\u001b[0m                 \u001b[1;31m# 1) Make all overlying elements equal to zero in the former identity matrix\u001b[0m\u001b[1;33m\u001b[0m\u001b[1;33m\u001b[0m\u001b[1;33m\u001b[0m\u001b[0m\n\u001b[1;32m---> 21\u001b[1;33m                 \u001b[0mm\u001b[0m\u001b[1;33m[\u001b[0m\u001b[0mrow\u001b[0m\u001b[1;33m,\u001b[0m \u001b[1;33m:\u001b[0m\u001b[1;33m]\u001b[0m \u001b[1;33m-=\u001b[0m \u001b[0mm\u001b[0m\u001b[1;33m[\u001b[0m\u001b[0mk\u001b[0m\u001b[1;33m,\u001b[0m \u001b[1;33m:\u001b[0m\u001b[1;33m]\u001b[0m \u001b[1;33m*\u001b[0m \u001b[0mm\u001b[0m\u001b[1;33m[\u001b[0m\u001b[0mrow\u001b[0m\u001b[1;33m,\u001b[0m \u001b[0mk\u001b[0m\u001b[1;33m]\u001b[0m\u001b[1;33m\u001b[0m\u001b[1;33m\u001b[0m\u001b[0m\n\u001b[0m\u001b[0;32m     22\u001b[0m \u001b[1;33m\u001b[0m\u001b[0m\n\u001b[0;32m     23\u001b[0m     \u001b[1;32mreturn\u001b[0m \u001b[1;33m(\u001b[0m\u001b[0mnp\u001b[0m\u001b[1;33m.\u001b[0m\u001b[0mhsplit\u001b[0m\u001b[1;33m(\u001b[0m\u001b[0mm\u001b[0m\u001b[1;33m,\u001b[0m\u001b[0mlen\u001b[0m\u001b[1;33m(\u001b[0m\u001b[0mmatrix_origin\u001b[0m\u001b[1;33m)\u001b[0m \u001b[1;33m//\u001b[0m \u001b[1;36m2\u001b[0m\u001b[1;33m)\u001b[0m\u001b[1;33m[\u001b[0m\u001b[1;36m1\u001b[0m\u001b[1;33m]\u001b[0m\u001b[1;33m)\u001b[0m\u001b[1;33m\u001b[0m\u001b[1;33m\u001b[0m\u001b[0m\n",
      "\u001b[1;32mE:\\Python 3-8-8\\lib\\site-packages\\numpy\\matrixlib\\defmatrix.py\u001b[0m in \u001b[0;36m__getitem__\u001b[1;34m(self, index)\u001b[0m\n\u001b[0;32m    191\u001b[0m \u001b[1;33m\u001b[0m\u001b[0m\n\u001b[0;32m    192\u001b[0m         \u001b[1;32mtry\u001b[0m\u001b[1;33m:\u001b[0m\u001b[1;33m\u001b[0m\u001b[1;33m\u001b[0m\u001b[0m\n\u001b[1;32m--> 193\u001b[1;33m             \u001b[0mout\u001b[0m \u001b[1;33m=\u001b[0m \u001b[0mN\u001b[0m\u001b[1;33m.\u001b[0m\u001b[0mndarray\u001b[0m\u001b[1;33m.\u001b[0m\u001b[0m__getitem__\u001b[0m\u001b[1;33m(\u001b[0m\u001b[0mself\u001b[0m\u001b[1;33m,\u001b[0m \u001b[0mindex\u001b[0m\u001b[1;33m)\u001b[0m\u001b[1;33m\u001b[0m\u001b[1;33m\u001b[0m\u001b[0m\n\u001b[0m\u001b[0;32m    194\u001b[0m         \u001b[1;32mfinally\u001b[0m\u001b[1;33m:\u001b[0m\u001b[1;33m\u001b[0m\u001b[1;33m\u001b[0m\u001b[0m\n\u001b[0;32m    195\u001b[0m             \u001b[0mself\u001b[0m\u001b[1;33m.\u001b[0m\u001b[0m_getitem\u001b[0m \u001b[1;33m=\u001b[0m \u001b[1;32mFalse\u001b[0m\u001b[1;33m\u001b[0m\u001b[1;33m\u001b[0m\u001b[0m\n",
      "\u001b[1;31mIndexError\u001b[0m: index 4 is out of bounds for axis 0 with size 4"
=======
      "\u001b[0;31m---------------------------------------------------------------------------\u001b[0m",
      "\u001b[0;31mTypeError\u001b[0m                                 Traceback (most recent call last)",
      "Input \u001b[0;32mIn [57]\u001b[0m, in \u001b[0;36m<cell line: 14>\u001b[0;34m()\u001b[0m\n\u001b[1;32m     12\u001b[0m \u001b[38;5;28mprint\u001b[39m(\u001b[38;5;124mf\u001b[39m\u001b[38;5;124m'\u001b[39m\u001b[38;5;124mCheck if A was unchanged \u001b[39m\u001b[38;5;124m'\u001b[39m)\n\u001b[1;32m     13\u001b[0m \u001b[38;5;28mprint\u001b[39m(\u001b[38;5;124mf\u001b[39m\u001b[38;5;124m'\u001b[39m\u001b[38;5;124mEliminated augmented matrix:\u001b[39m\u001b[38;5;130;01m\\n\u001b[39;00m\u001b[38;5;124m \u001b[39m\u001b[38;5;132;01m{\u001b[39;00mAe\u001b[38;5;132;01m}\u001b[39;00m\u001b[38;5;124m'\u001b[39m)\n\u001b[0;32m---> 14\u001b[0m \u001b[38;5;28mprint\u001b[39m(\u001b[38;5;124mf\u001b[39m\u001b[38;5;124m'\u001b[39m\u001b[38;5;124mEliminated augmented matrix A part: \u001b[39m\u001b[38;5;132;01m{\u001b[39;00mAe[:,:\u001b[38;5;241m-\u001b[39m\u001b[38;5;241m1\u001b[39m]\u001b[38;5;132;01m}\u001b[39;00m\u001b[38;5;124m'\u001b[39m)\n\u001b[1;32m     15\u001b[0m \u001b[38;5;28mprint\u001b[39m(\u001b[38;5;124mf\u001b[39m\u001b[38;5;124m'\u001b[39m\u001b[38;5;124mEliminated augmented matrix B part: \u001b[39m\u001b[38;5;132;01m{\u001b[39;00mAe[:,Ae\u001b[38;5;241m.\u001b[39mshape[\u001b[38;5;241m1\u001b[39m]\u001b[38;5;241m-\u001b[39m\u001b[38;5;241m1\u001b[39m]\u001b[38;5;132;01m}\u001b[39;00m\u001b[38;5;124m'\u001b[39m)\n\u001b[1;32m     16\u001b[0m \u001b[38;5;66;03m# Find solution\u001b[39;00m\n",
      "\u001b[0;31mTypeError\u001b[0m: list indices must be integers or slices, not tuple"
>>>>>>> 8eb542459646f058344eb935801315d4a46997e3
     ]
    }
   ],
   "source": [
    "Gauss(matrix_origin)"
   ]
  },
  {
   "cell_type": "code",
   "execution_count": null,
   "metadata": {},
   "outputs": [],
   "source": [
    "Ae = [[ 1. 2. 3. 4. 10. ]\n",
    "[ 0. -4. 73. -23. 46. ]\n",
    "[ 0. 0. -162. 7. -155. ]\n",
    "[ 0. 0. 0. 22.5 22.5]]"
   ]
  },
  {
   "cell_type": "code",
   "execution_count": null,
   "metadata": {},
   "outputs": [],
   "source": [
    "A = np.arange(1, 17, dtype=np.float64).reshape(4,4)\n",
    "A[1,2] = 88\n",
    "A[1,3] = -3\n",
    "A[2,3] = -3\n",
    "print(f'A = {A}')\n",
    "x = np.ones(A.shape[0])\n",
    "print(f'Original x = {x}')\n",
    "B = A @ x.T\n",
    "print(f'Right hand side for testing: B = {B}')\n",
<<<<<<< HEAD
    "# Ae = Gauss(A, B)\n",
    "Ae = [[ 1., 2., 3., 4., 10., ]\n",
    "[ 0., -4., 73., -23., 46, ]\n",
    "[ 0., 0., -162., 7., -155., ]\n",
    "[ 0., 0., 0., 22.5, 22.5]]\n",
=======
    "Ae = Gauss(A, B)\n",
    "print(type(Ae))\n",
>>>>>>> 8eb542459646f058344eb935801315d4a46997e3
    "print(f'Check if A was unchanged ')\n",
    "print(f'Eliminated augmented matrix:\\n {Ae}')\n",
    "print(f'Eliminated augmented matrix A part: {Ae[:,:-1]}')\n",
    "print(f'Eliminated augmented matrix B part: {Ae[:,Ae.shape[1]-1]}')\n",
    "# Find solution\n",
    "x = back(Ae[:,:-1],Ae[:,Ae.shape[1]-1])\n",
    "print(f'Solution: {x}')"
   ]
  },
  {
   "cell_type": "code",
   "execution_count": 44,
   "metadata": {},
   "outputs": [],
   "source": [
    "def gaussian(A,b):\n",
    "    A = numpy.array(A) # Матрица (левая часть системы)\n",
    "    b = numpy.array(b) # Вектор (правая часть системы)\n",
    "    rezalt = numpy.linalg.solve(A, b)\n",
    "    return rezalt"
   ]
  },
  {
   "cell_type": "code",
   "execution_count": 41,
   "metadata": {},
   "outputs": [
    {
     "data": {
      "text/plain": [
       "array([1., 1., 1., 1.])"
      ]
     },
     "execution_count": 41,
     "metadata": {},
     "output_type": "execute_result"
    }
   ],
   "source": [
    "import numpy # импортируем библиотеку \n",
    "\n",
    "M4 = numpy.array([[1.,  2.,  3.,  4.,], [ 5.,  6., 88., -3.,], [ 9., 10., 11., -3.,], [13., 14., 15., 16.,]]) # Матрица (левая часть системы)\n",
    "v4 = numpy.array([10., 96., 27., 58.,]) # Вектор (правая часть системы)\n",
    "\n",
    "numpy.linalg.solve(M4, v4)"
   ]
  },
  {
   "cell_type": "code",
   "execution_count": 43,
   "metadata": {},
   "outputs": [
    {
     "name": "stdout",
     "output_type": "stream",
     "text": [
      "[1. 1. 1. 1.]\n"
     ]
    }
   ],
   "source": [
    "A = [\n",
    "    [1.,  2.,  3.,  4.,],\n",
    " [ 5.,  6., 88., -3.,],\n",
    " [ 9., 10., 11., -3.,],\n",
    " [13., 14., 15., 16.,],\n",
    " ]\n",
    "\n",
    "b = [10., 96., 27., 58.,]\n",
    "print (gaussian (A,b))"
   ]
  },
  {
   "cell_type": "code",
   "execution_count": 45,
   "metadata": {},
   "outputs": [
    {
     "name": "stdout",
     "output_type": "stream",
     "text": [
      "A = [[ 1.  2.  3.  4.]\n",
      " [ 5.  6. 88. -3.]\n",
      " [ 9. 10. 11. -3.]\n",
      " [13. 14. 15. 16.]]\n",
      "Original x = [1. 1. 1. 1.]\n",
      "Right hand side for testing: b = [10. 96. 27. 58.]\n",
      "Check if A was unchanged \n",
      "Eliminated augmented matrix:\n",
      " [1. 1. 1. 1.]\n"
     ]
    },
    {
     "ename": "IndexError",
     "evalue": "too many indices for array: array is 1-dimensional, but 2 were indexed",
     "output_type": "error",
     "traceback": [
      "\u001b[1;31m---------------------------------------------------------------------------\u001b[0m",
      "\u001b[1;31mIndexError\u001b[0m                                Traceback (most recent call last)",
      "\u001b[1;32mC:\\Users\\1B72~1\\AppData\\Local\\Temp/ipykernel_8408/2839453006.py\u001b[0m in \u001b[0;36m<module>\u001b[1;34m\u001b[0m\n\u001b[0;32m     11\u001b[0m \u001b[0mprint\u001b[0m\u001b[1;33m(\u001b[0m\u001b[1;34mf'Check if A was unchanged '\u001b[0m\u001b[1;33m)\u001b[0m\u001b[1;33m\u001b[0m\u001b[1;33m\u001b[0m\u001b[0m\n\u001b[0;32m     12\u001b[0m \u001b[0mprint\u001b[0m\u001b[1;33m(\u001b[0m\u001b[1;34mf'Eliminated augmented matrix:\\n {Ae}'\u001b[0m\u001b[1;33m)\u001b[0m\u001b[1;33m\u001b[0m\u001b[1;33m\u001b[0m\u001b[0m\n\u001b[1;32m---> 13\u001b[1;33m \u001b[0mprint\u001b[0m\u001b[1;33m(\u001b[0m\u001b[1;34mf'Eliminated augmented matrix A part: {Ae[:,:-1]}'\u001b[0m\u001b[1;33m)\u001b[0m\u001b[1;33m\u001b[0m\u001b[1;33m\u001b[0m\u001b[0m\n\u001b[0m\u001b[0;32m     14\u001b[0m \u001b[0mprint\u001b[0m\u001b[1;33m(\u001b[0m\u001b[1;34mf'Eliminated augmented matrix b part: {Ae[:,Ae.shape[1]-1]}'\u001b[0m\u001b[1;33m)\u001b[0m\u001b[1;33m\u001b[0m\u001b[1;33m\u001b[0m\u001b[0m\n\u001b[0;32m     15\u001b[0m \u001b[1;31m# Find solution\u001b[0m\u001b[1;33m\u001b[0m\u001b[1;33m\u001b[0m\u001b[1;33m\u001b[0m\u001b[0m\n",
      "\u001b[1;31mIndexError\u001b[0m: too many indices for array: array is 1-dimensional, but 2 were indexed"
     ]
    }
   ],
   "source": [
    "A = np.arange(1, 17, dtype=np.float64).reshape(4,4)\n",
    "A[1,2] = 88\n",
    "A[1,3] = -3\n",
    "A[2,3] = -3\n",
    "print(f'A = {A}')\n",
    "x = np.ones(A.shape[0])\n",
    "print(f'Original x = {x}')\n",
    "b = A @ x.T\n",
    "print(f'Right hand side for testing: b = {b}')\n",
    "Ae = gaussian(A, b)\n",
    "print(f'Check if A was unchanged ')\n",
    "print(f'Eliminated augmented matrix:\\n {Ae}')\n",
    "print(f'Eliminated augmented matrix A part: {Ae[:,:-1]}')\n",
    "print(f'Eliminated augmented matrix b part: {Ae[:,Ae.shape[1]-1]}')\n",
    "# Find solution\n",
    "x = back(Ae[:,:-1],Ae[:,Ae.shape[1]-1])\n",
    "print(f'Solution: {x}')"
   ]
  },
  {
   "cell_type": "code",
   "execution_count": 40,
   "metadata": {},
   "outputs": [
    {
     "name": "stderr",
     "output_type": "stream",
     "text": [
      "<>:2: SyntaxWarning: list indices must be integers or slices, not tuple; perhaps you missed a comma?\n",
      "<>:2: SyntaxWarning: list indices must be integers or slices, not tuple; perhaps you missed a comma?\n",
      "C:\\Users\\1B72~1\\AppData\\Local\\Temp/ipykernel_5608/1517465407.py:2: SyntaxWarning: list indices must be integers or slices, not tuple; perhaps you missed a comma?\n",
      "  matrix = ([ 1,  2,  3,  4.]\n"
     ]
    }
   ],
   "source": [
    "def make_identity(matrix):\n",
    "    matrix = ([ 1,  2,  3,  4.]\n",
    "    [ 5,  6, 88, -3.]\n",
    "    [ 9, 10, 11, -3.]\n",
    "    [13, 14, 15, 16.])\n",
    "    # перебор строк в обратном порядке \n",
    "    for nrow in range(len(matrix)-1,0,-1):\n",
    "        row = matrix[nrow]\n",
    "        for upper_row in matrix[:nrow]:\n",
    "            factor = upper_row[nrow]\n",
    "            upper_row -= factor*row\n",
    "    return matrix"
   ]
  }
 ],
 "metadata": {
  "interpreter": {
   "hash": "744f09b387bbb0f9e71bd92782b46d7d9cb5eb435d734955ea16ad78a2643f3b"
  },
  "kernelspec": {
   "display_name": "Python 3 (ipykernel)",
   "language": "python",
   "name": "python3"
  },
  "language_info": {
   "codemirror_mode": {
    "name": "ipython",
    "version": 3
   },
   "file_extension": ".py",
   "mimetype": "text/x-python",
   "name": "python",
   "nbconvert_exporter": "python",
   "pygments_lexer": "ipython3",
   "version": "3.8.10"
  }
 },
 "nbformat": 4,
 "nbformat_minor": 2
}
