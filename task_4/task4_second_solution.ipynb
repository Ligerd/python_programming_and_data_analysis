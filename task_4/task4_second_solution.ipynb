{
 "cells": [
  {
   "cell_type": "code",
   "execution_count": 57,
   "metadata": {},
   "outputs": [
    {
     "name": "stdout",
     "output_type": "stream",
     "text": [
      "Note: you may need to restart the kernel to use updated packages.\n"
     ]
    },
    {
     "name": "stderr",
     "output_type": "stream",
     "text": [
      "ERROR: Could not find a version that satisfies the requirement scipy.linalg (from versions: none)\n",
      "ERROR: No matching distribution found for scipy.linalg\n",
      "WARNING: You are using pip version 20.2.3; however, version 22.0.4 is available.\n",
      "You should consider upgrading via the 'E:\\Python 3-8-8\\python.exe -m pip install --upgrade pip' command.\n"
     ]
    }
   ],
   "source": [
    "pip install scipy.linalg"
   ]
  },
  {
   "cell_type": "code",
   "execution_count": 10,
   "metadata": {},
   "outputs": [],
   "source": [
    "import numpy as np\n",
    "from scipy.linalg import solve"
   ]
  },
  {
   "cell_type": "code",
   "execution_count": 14,
   "metadata": {},
   "outputs": [
    {
     "name": "stdout",
     "output_type": "stream",
     "text": [
      "Исходная система:\n",
      "Решаем:\n"
     ]
    }
   ],
   "source": [
    "\n",
    "# def FancyPrint(A, B, selected):\n",
    "#     for row in range(len(B)):\n",
    "#         print(\"(\", end='')\n",
    "#         for col in range(len(A[row])):\n",
    "#              print(\"\\t{1:10.2f}{0}\".format(\" \" if (selected is None\n",
    "# or selected != (row, col)) else \"*\", A[row][col]), end='')\n",
    "#         print(\"\\t) * (\\tX{0}) = (\\t{1:10.2f})\".format(row + 1, B[row]))\n",
    "# --- end of вывод системы на экран\n",
    "\n",
    "# --- перемена местами двух строк системы\n",
    "def SwapRows(A, B, row1, row2):\n",
    "    A[row1], A[row2] = A[row2], A[row1]\n",
    "    B[row1], B[row2] = B[row2], B[row1]\n",
    "# --- end of перемена местами двух строк системы\n",
    "\n",
    "# --- деление строки системы на число\n",
    "def DivideRow(A, B, row, divider):\n",
    "    A[row] = [a / divider for a in A[row]]\n",
    "    B[row] /= divider\n",
    "# --- end of деление строки системы на число\n",
    "\n",
    "# --- сложение строки системы с другой строкой, умноженной на число\n",
    "def CombineRows(A, B, row, source_row, weight):\n",
    "    A[row] = [(a + k * weight) for a, k in zip(A[row], A[source_row])]\n",
    "    B[row] += B[source_row] * weight\n",
    "# --- end of сложение строки системы с другой строкой, умноженной начисло\n",
    "\n",
    "# --- решение системы методом Гаусса (приведением к треугольному виду)\n",
    "def Gauss(A, B):\n",
    "    column = 0\n",
    "    while (column < len(B)):\n",
    "        # print(\"Ищем максимальный по модулю элемент в {0}-м столбце:\".format(column + 1))\n",
    "        current_row = None\n",
    "        for r in range(column, len(A)):\n",
    "            if current_row is None or abs(A[r][column]) > abs(A[current_row][column]):\n",
    "                 current_row = r\n",
    "        if current_row is None:\n",
    "            # print(\"решений нет\")\n",
    "            return None\n",
    "        # FancyPrint(A, B, (current_row, column))\n",
    "        if current_row != column:\n",
    "            # print(\"Переставляем строку с найденным элементом повыше:\")\n",
    "            SwapRows(A, B, current_row, column)\n",
    "            # FancyPrint(A, B, (column, column))\n",
    "        # print(\"Нормализуем строку с найденным элементом:\")\n",
    "        DivideRow(A, B, column, A[column][column])\n",
    "        # FancyPrint(A, B, (column, column))\n",
    "        print(\"Обрабатываем нижележащие строки:\")\n",
    "        for r in range(column + 1, len(A)):\n",
    "            CombineRows(A, B, r, column, -A[r][column])\n",
    "        FancyPrint(A, B, (column, column))\n",
    "        column += 1\n",
    "    print(\"Матрица приведена к треугольному виду, считаем решение\")\n",
    "    X = [0 for b in B]\n",
    "    for i in range(len(B) - 1, -1, -1):\n",
    "        X[i] = B[i] - sum(x * a for x, a in zip(X[(i + 1):], A[i][(i + 1):]))\n",
    "    print(\"Получили ответ:\")\n",
    "    print(\"\\n\".join(\"X{0} =\\t{1:10.2f}\".format(i + 1, x) for i, x in\n",
    "enumerate(X)))\n",
    "    return X\n",
    "# --- end of решение системы методом Гаусса (приведением к треугольному виду)\n",
    "print(\"Исходная система:\")\n",
    "# FancyPrint(myA, myB, None)\n",
    "print(\"Решаем:\")\n"
   ]
  },
  {
   "cell_type": "code",
   "execution_count": 15,
   "metadata": {},
   "outputs": [
    {
     "name": "stdout",
     "output_type": "stream",
     "text": [
      "Обрабатываем нижележащие строки:\n",
      "(\t      1.00*\t      1.08 \t      1.15 \t      1.23 \t) * (\tX1) = (\t      4.46)\n",
      "(\t      0.00 \t      0.62 \t     82.23 \t     -9.15 \t) * (\tX2) = (\t     73.69)\n",
      "(\t      0.00 \t      0.31 \t      0.62 \t    -14.08 \t) * (\tX3) = (\t    -13.15)\n",
      "(\t      0.00 \t      0.92 \t      1.85 \t      2.77 \t) * (\tX4) = (\t      5.54)\n",
      "Обрабатываем нижележащие строки:\n",
      "(\t      1.00 \t      1.08 \t      1.15 \t      1.23 \t) * (\tX1) = (\t      4.46)\n",
      "(\t      0.00 \t      1.00*\t      2.00 \t      3.00 \t) * (\tX2) = (\t      6.00)\n",
      "(\t      0.00 \t      0.00 \t      0.00 \t    -15.00 \t) * (\tX3) = (\t    -15.00)\n",
      "(\t      0.00 \t      0.00 \t     81.00 \t    -11.00 \t) * (\tX4) = (\t     70.00)\n",
      "Обрабатываем нижележащие строки:\n",
      "(\t      1.00 \t      1.08 \t      1.15 \t      1.23 \t) * (\tX1) = (\t      4.46)\n",
      "(\t      0.00 \t      1.00 \t      2.00 \t      3.00 \t) * (\tX2) = (\t      6.00)\n",
      "(\t      0.00 \t      0.00 \t      1.00*\t     -0.14 \t) * (\tX3) = (\t      0.86)\n",
      "(\t      0.00 \t      0.00 \t      0.00 \t    -15.00 \t) * (\tX4) = (\t    -15.00)\n",
      "Обрабатываем нижележащие строки:\n",
      "(\t      1.00 \t      1.08 \t      1.15 \t      1.23 \t) * (\tX1) = (\t      4.46)\n",
      "(\t      0.00 \t      1.00 \t      2.00 \t      3.00 \t) * (\tX2) = (\t      6.00)\n",
      "(\t      0.00 \t      0.00 \t      1.00 \t     -0.14 \t) * (\tX3) = (\t      0.86)\n",
      "(\t     -0.00 \t     -0.00 \t     -0.00 \t      1.00*\t) * (\tX4) = (\t      1.00)\n",
      "Матрица приведена к треугольному виду, считаем решение\n",
      "Получили ответ:\n",
      "X1 =\t      1.00\n",
      "X2 =\t      1.00\n",
      "X3 =\t      1.00\n",
      "X4 =\t      1.00\n"
     ]
    },
    {
     "data": {
      "text/plain": [
       "[1.0000000000000009, 0.9999999999999991, 1.0, 1.0000000000000002]"
      ]
     },
     "execution_count": 15,
     "metadata": {},
     "output_type": "execute_result"
    }
   ],
   "source": [
    "A = [\n",
    "    [1.,  2.,  3.,  4.,],\n",
    " [ 5.,  6., 88., -3.,],\n",
    " [ 9., 10., 11., -3.,],\n",
    " [13., 14., 15., 16.,],\n",
    " ]\n",
    "\n",
    "B = [10., 96., 27., 58.,]\n",
    "Gauss(A, B)"
   ]
  },
  {
   "cell_type": "code",
   "execution_count": 16,
   "metadata": {},
   "outputs": [
    {
     "name": "stdout",
     "output_type": "stream",
     "text": [
      "A = [[ 1.  2.  3.  4.]\n",
      " [ 5.  6. 88. -3.]\n",
      " [ 9. 10. 11. -3.]\n",
      " [13. 14. 15. 16.]]\n",
      "Original x = [1. 1. 1. 1.]\n",
      "Right hand side for testing: b = [10. 96. 27. 58.]\n",
      "Обрабатываем нижележащие строки:\n",
      "(\t      1.00*\t      2.00 \t      3.00 \t      4.00 \t) * (\tX1) = (\t     58.00)\n",
      "(\t      0.00 \t     -4.00 \t     73.00 \t    -23.00 \t) * (\tX2) = (\t   -194.00)\n",
      "(\t      0.00 \t     -8.00 \t    -16.00 \t    -39.00 \t) * (\tX3) = (\t   -495.00)\n",
      "(\t      0.00 \t      0.00 \t      0.00 \t      0.00 \t) * (\tX4) = (\t    -48.00)\n",
      "Обрабатываем нижележащие строки:\n",
      "(\t      1.00 \t      2.00 \t      3.00 \t      4.00 \t) * (\tX1) = (\t     58.00)\n",
      "(\t     -0.00 \t      1.00*\t    -18.25 \t      5.75 \t) * (\tX2) = (\t    123.75)\n",
      "(\t      0.00 \t      0.00 \t      0.00 \t      0.00 \t) * (\tX3) = (\t    301.00)\n",
      "(\t      0.00 \t      0.00 \t      0.00 \t      0.00 \t) * (\tX4) = (\t    -48.00)\n",
      "Обрабатываем нижележащие строки:\n",
      "(\t      1.00 \t      2.00 \t      3.00 \t      4.00 \t) * (\tX1) = (\t     58.00)\n",
      "(\t     -0.00 \t      1.00 \t    -18.25 \t      5.75 \t) * (\tX2) = (\t    123.75)\n",
      "(\t       nan \t       nan \t       nan*\t       nan \t) * (\tX3) = (\t       inf)\n",
      "(\t       nan \t       nan \t       nan \t       nan \t) * (\tX4) = (\t       nan)\n",
      "Обрабатываем нижележащие строки:\n",
      "(\t      1.00 \t      2.00 \t      3.00 \t      4.00 \t) * (\tX1) = (\t     58.00)\n",
      "(\t     -0.00 \t      1.00 \t    -18.25 \t      5.75 \t) * (\tX2) = (\t    123.75)\n",
      "(\t       nan \t       nan \t       nan \t       nan \t) * (\tX3) = (\t       inf)\n",
      "(\t       nan \t       nan \t       nan \t       nan*\t) * (\tX4) = (\t       nan)\n",
      "Матрица приведена к треугольному виду, считаем решение\n",
      "Получили ответ:\n",
      "X1 =\t       nan\n",
      "X2 =\t       nan\n",
      "X3 =\t       nan\n",
      "X4 =\t       nan\n",
      "Check if A was unchanged \n",
      "Eliminated augmented matrix:\n",
      " [nan, nan, nan, nan]\n"
     ]
    },
    {
     "name": "stderr",
     "output_type": "stream",
     "text": [
      "C:\\Users\\1B72~1\\AppData\\Local\\Temp/ipykernel_8408/3819483968.py:18: RuntimeWarning: invalid value encountered in double_scalars\n",
      "  A[row] = [a / divider for a in A[row]]\n",
      "C:\\Users\\1B72~1\\AppData\\Local\\Temp/ipykernel_8408/3819483968.py:19: RuntimeWarning: divide by zero encountered in double_scalars\n",
      "  B[row] /= divider\n",
      "C:\\Users\\1B72~1\\AppData\\Local\\Temp/ipykernel_8408/3819483968.py:25: RuntimeWarning: invalid value encountered in double_scalars\n",
      "  B[row] += B[source_row] * weight\n"
     ]
    },
    {
     "ename": "TypeError",
     "evalue": "list indices must be integers or slices, not tuple",
     "output_type": "error",
     "traceback": [
      "\u001b[1;31m---------------------------------------------------------------------------\u001b[0m",
      "\u001b[1;31mTypeError\u001b[0m                                 Traceback (most recent call last)",
      "\u001b[1;32mC:\\Users\\1B72~1\\AppData\\Local\\Temp/ipykernel_8408/2708117327.py\u001b[0m in \u001b[0;36m<module>\u001b[1;34m\u001b[0m\n\u001b[0;32m     11\u001b[0m \u001b[0mprint\u001b[0m\u001b[1;33m(\u001b[0m\u001b[1;34mf'Check if A was unchanged '\u001b[0m\u001b[1;33m)\u001b[0m\u001b[1;33m\u001b[0m\u001b[1;33m\u001b[0m\u001b[0m\n\u001b[0;32m     12\u001b[0m \u001b[0mprint\u001b[0m\u001b[1;33m(\u001b[0m\u001b[1;34mf'Eliminated augmented matrix:\\n {Ae}'\u001b[0m\u001b[1;33m)\u001b[0m\u001b[1;33m\u001b[0m\u001b[1;33m\u001b[0m\u001b[0m\n\u001b[1;32m---> 13\u001b[1;33m \u001b[0mprint\u001b[0m\u001b[1;33m(\u001b[0m\u001b[1;34mf'Eliminated augmented matrix A part: {Ae[:,:-1]}'\u001b[0m\u001b[1;33m)\u001b[0m\u001b[1;33m\u001b[0m\u001b[1;33m\u001b[0m\u001b[0m\n\u001b[0m\u001b[0;32m     14\u001b[0m \u001b[0mprint\u001b[0m\u001b[1;33m(\u001b[0m\u001b[1;34mf'Eliminated augmented matrix B part: {Ae[:,Ae.shape[1]-1]}'\u001b[0m\u001b[1;33m)\u001b[0m\u001b[1;33m\u001b[0m\u001b[1;33m\u001b[0m\u001b[0m\n\u001b[0;32m     15\u001b[0m \u001b[1;31m# Find solution\u001b[0m\u001b[1;33m\u001b[0m\u001b[1;33m\u001b[0m\u001b[1;33m\u001b[0m\u001b[0m\n",
      "\u001b[1;31mTypeError\u001b[0m: list indices must be integers or slices, not tuple"
     ]
    }
   ],
   "source": [
    "A = np.arange(1, 17, dtype=np.float64).reshape(4,4)\n",
    "A[1,2] = 88\n",
    "A[1,3] = -3\n",
    "A[2,3] = -3\n",
    "print(f'A = {A}')\n",
    "x = np.ones(A.shape[0])\n",
    "print(f'Original x = {x}')\n",
    "B = A @ x.T\n",
    "print(f'Right hand side for testing: b = {B}')\n",
    "Ae = Gauss(A, B)\n",
    "print(f'Check if A was unchanged ')\n",
    "print(f'Eliminated augmented matrix:\\n {Ae}')\n",
    "print(f'Eliminated augmented matrix A part: {Ae[:,:-1]}')\n",
    "print(f'Eliminated augmented matrix B part: {Ae[:,Ae.shape[1]-1]}')\n",
    "# Find solution\n",
    "x = back(Ae[:,:-1],Ae[:,Ae.shape[1]-1])\n",
    "print(f'Solution: {x}')"
   ]
  },
  {
   "cell_type": "code",
   "execution_count": 53,
   "metadata": {},
   "outputs": [],
   "source": [
    "def gaussian(A,b):\n",
    "    cout = 0                      # Определить время расчета\n",
    "    m, n = A.shape # Количество строк и столбцов матрицы a\n",
    "    if ( m < n ):\n",
    "        print(\"«Есть пространство для решения».\")# Убедитесь, что количество уравнений больше, чем количество неизвестных\n",
    "    else:\n",
    "        l = np.zeros((n,n))\n",
    "    for i in range(n):\n",
    "                            # фактор ограничения\n",
    "        if (A[i][i] == 0):\n",
    "            print(\"no answer\")\n",
    "\n",
    "                    # j означает столбец\n",
    "        for k in range(n - 1):          # k представляет первый слой цикла,(0，n-1)Строка \n",
    "            for i in range(k + 1, n):      # i означает цикл второго слоя,(k+1,n)Строка,Рассчитать коэффициент исключения строки\n",
    "                l[i][k] = A[i][k] / A[k][k]          #Calculationl\n",
    "                cout += 1                              # Время расчета плюс один\n",
    "                for j in range(m):            # j представляет столбец, выполнять операции с каждым столбцом\n",
    "                    A[i][j] = A[i][j] - l[i][k] * A[k][j]\n",
    "                    cout += 1\n",
    "                    b[i] = b[i] - l[i][k] * b[k]\n",
    "                    # Вернуться к решению уравнения\n",
    "            x = np.zeros(n)                                              # Сначала установите значение отмены назначения равным нулю, а затем вычислите одно за другим\n",
    "            x[n - 1] = b[n - 1] / A[n - 1][n - 1]  # Сначала вычислить последнее x решение\n",
    "\n",
    "        for i in range(n - 2, -1, -1):            # Вернуть и пересчитать каждое решение по очереди\n",
    "            for j in range(i + 1, n):\n",
    "                b[i] -= A[i][j] * x[j]              # Поскольку увеличение и уменьшение\n",
    "                x[i] = b[i] / A[i][i]\n",
    "        for i in range(n):\n",
    "            print(\"x\" + str(i + 1) + \" = \", x[i])\n",
    "            print(\"x\" \" = \", x)\n",
    "            print(\"«Расчеты»,\" \"=\", cout)\n",
    "# return A_aug"
   ]
  },
  {
   "cell_type": "code",
   "execution_count": 54,
   "metadata": {},
   "outputs": [
    {
     "name": "stdout",
     "output_type": "stream",
     "text": [
      "<class 'numpy.ndarray'>\n",
      "A = [[ 1.  2.  3.  4.]\n",
      " [ 5.  6. 88. -3.]\n",
      " [ 9. 10. 11. -3.]\n",
      " [13. 14. 15. 16.]]\n",
      "Original x = [1. 1. 1. 1.]\n",
      "x1 =  -488.83724279835377\n",
      "x =  [-488.8372428   456.66615226   -7.32057613  -98.13333333]\n",
      "«Расчеты»,= 30\n",
      "x2 =  456.66615226337444\n",
      "x =  [-488.8372428   456.66615226   -7.32057613  -98.13333333]\n",
      "«Расчеты»,= 30\n",
      "x3 =  -7.320576131687243\n",
      "x =  [-488.8372428   456.66615226   -7.32057613  -98.13333333]\n",
      "«Расчеты»,= 30\n",
      "x4 =  -98.13333333333334\n",
      "x =  [-488.8372428   456.66615226   -7.32057613  -98.13333333]\n",
      "«Расчеты»,= 30\n",
      "x1 =  -1681.51378600823\n",
      "x =  [-1681.51378601   809.9462963    -11.56090535   -98.13333333]\n",
      "«Расчеты»,= 60\n",
      "x2 =  809.9462962962962\n",
      "x =  [-1681.51378601   809.9462963    -11.56090535   -98.13333333]\n",
      "«Расчеты»,= 60\n",
      "x3 =  -11.56090534979424\n",
      "x =  [-1681.51378601   809.9462963    -11.56090535   -98.13333333]\n",
      "«Расчеты»,= 60\n",
      "x4 =  -98.13333333333334\n",
      "x =  [-1681.51378601   809.9462963    -11.56090535   -98.13333333]\n",
      "«Расчеты»,= 60\n",
      "x1 =  -3413.2576131687233\n",
      "x =  [-3413.25761317  1085.8404321    -15.80123457   -98.13333333]\n",
      "«Расчеты»,= 90\n",
      "x2 =  1085.8404320987652\n",
      "x =  [-3413.25761317  1085.8404321    -15.80123457   -98.13333333]\n",
      "«Расчеты»,= 90\n",
      "x3 =  -15.801234567901236\n",
      "x =  [-3413.25761317  1085.8404321    -15.80123457   -98.13333333]\n",
      "«Расчеты»,= 90\n",
      "x4 =  -98.13333333333334\n",
      "x =  [-3413.25761317  1085.8404321    -15.80123457   -98.13333333]\n",
      "«Расчеты»,= 90\n",
      "x1 =  -5529.296707818929\n",
      "x =  [-5529.29670782  1284.34855967   -20.04156379   -98.13333333]\n",
      "«Расчеты»,= 120\n",
      "x2 =  1284.3485596707815\n",
      "x =  [-5529.29670782  1284.34855967   -20.04156379   -98.13333333]\n",
      "«Расчеты»,= 120\n",
      "x3 =  -20.041563786008233\n",
      "x =  [-5529.29670782  1284.34855967   -20.04156379   -98.13333333]\n",
      "«Расчеты»,= 120\n",
      "x4 =  -98.13333333333334\n",
      "x =  [-5529.29670782  1284.34855967   -20.04156379   -98.13333333]\n",
      "«Расчеты»,= 120\n"
     ]
    }
   ],
   "source": [
    "a = np.arange(1, 17, dtype=np.float64).reshape(4,4)\n",
    "a[1,2] = 88\n",
    "a[1,3] = -3\n",
    "a[2,3] = -3\n",
    "print(type(a))\n",
    "print(f'A = {a}')\n",
    "x = np.ones(a.shape[0])\n",
    "print(f'Original x = {x}')\n",
    "b = a @ x.T\n",
    "gaussian(a, b)"
   ]
  },
  {
   "cell_type": "code",
   "execution_count": null,
   "metadata": {},
   "outputs": [],
   "source": [
    "a = np.array([[0.5, 1.1, 3.1], [2.0, 4.5, 0.36], [5.0, 0.96, 6.5]])        # Матрица входных коэффициентов\n",
    "b = np.array([-6.0, 0.020, 0.96])                                                                            # Расширенная матрица с одним столбцом\n",
    "gaussian(a, b)"
   ]
  },
  {
   "cell_type": "code",
   "execution_count": null,
   "metadata": {},
   "outputs": [],
   "source": [
    "def myGauss(m):\n",
    "    # eliminate columns\n",
    "    for col in range(len(m[0])):\n",
    "        for row in range(col+1, len(m)):\n",
    "            r = [(rowValue * (-(m[row][col] / m[col][col]))) for rowValue in m[col]]\n",
    "            m[row] = [sum(pair) for pair in zip(m[row], r)]\n",
    "    # now backsolve by substitution\n",
    "    ans = []\n",
    "    m.reverse() # makes it easier to backsolve\n",
    "    for sol in range(len(m)):\n",
    "            if sol == 0:\n",
    "                ans.append(m[sol][-1] / m[sol][-2])\n",
    "            else:\n",
    "                inner = 0\n",
    "                # substitute in all known coefficients\n",
    "                for x in range(sol):\n",
    "                    inner += (ans[x]*m[sol][-2-x])\n",
    "                # the equation is now reduced to ax + b = c form\n",
    "                # solve with (c - b) / a\n",
    "                ans.append((m[sol][-1]-inner)/m[sol][-sol-2])\n",
    "    ans.reverse()\n",
    "    return ans"
   ]
  },
  {
   "cell_type": "code",
   "execution_count": 50,
   "metadata": {},
   "outputs": [
    {
     "name": "stdout",
     "output_type": "stream",
     "text": [
      "A = [[ 1.  2.  3.  4.]\n",
      " [ 5.  6. 88. -3.]\n",
      " [ 9. 10. 11. -3.]\n",
      " [13. 14. 15. 16.]]\n",
      "Original x = [1. 1. 1. 1.]\n",
      "Right hand side for testing: b = [10. 96. 27. 58.]\n",
      "x1 =  -488.83724279835377\n",
      "x =  [-488.8372428   456.66615226   -7.32057613  -98.13333333]\n",
      "«Расчеты»,= 30\n",
      "x2 =  456.66615226337444\n",
      "x =  [-488.8372428   456.66615226   -7.32057613  -98.13333333]\n",
      "«Расчеты»,= 30\n",
      "x3 =  -7.320576131687243\n",
      "x =  [-488.8372428   456.66615226   -7.32057613  -98.13333333]\n",
      "«Расчеты»,= 30\n",
      "x4 =  -98.13333333333334\n",
      "x =  [-488.8372428   456.66615226   -7.32057613  -98.13333333]\n",
      "«Расчеты»,= 30\n",
      "x1 =  -1681.51378600823\n",
      "x =  [-1681.51378601   809.9462963    -11.56090535   -98.13333333]\n",
      "«Расчеты»,= 60\n",
      "x2 =  809.9462962962962\n",
      "x =  [-1681.51378601   809.9462963    -11.56090535   -98.13333333]\n",
      "«Расчеты»,= 60\n",
      "x3 =  -11.56090534979424\n",
      "x =  [-1681.51378601   809.9462963    -11.56090535   -98.13333333]\n",
      "«Расчеты»,= 60\n",
      "x4 =  -98.13333333333334\n",
      "x =  [-1681.51378601   809.9462963    -11.56090535   -98.13333333]\n",
      "«Расчеты»,= 60\n",
      "x1 =  -3413.2576131687233\n",
      "x =  [-3413.25761317  1085.8404321    -15.80123457   -98.13333333]\n",
      "«Расчеты»,= 90\n",
      "x2 =  1085.8404320987652\n",
      "x =  [-3413.25761317  1085.8404321    -15.80123457   -98.13333333]\n",
      "«Расчеты»,= 90\n",
      "x3 =  -15.801234567901236\n",
      "x =  [-3413.25761317  1085.8404321    -15.80123457   -98.13333333]\n",
      "«Расчеты»,= 90\n",
      "x4 =  -98.13333333333334\n",
      "x =  [-3413.25761317  1085.8404321    -15.80123457   -98.13333333]\n",
      "«Расчеты»,= 90\n",
      "x1 =  -5529.296707818929\n",
      "x =  [-5529.29670782  1284.34855967   -20.04156379   -98.13333333]\n",
      "«Расчеты»,= 120\n",
      "x2 =  1284.3485596707815\n",
      "x =  [-5529.29670782  1284.34855967   -20.04156379   -98.13333333]\n",
      "«Расчеты»,= 120\n",
      "x3 =  -20.041563786008233\n",
      "x =  [-5529.29670782  1284.34855967   -20.04156379   -98.13333333]\n",
      "«Расчеты»,= 120\n",
      "x4 =  -98.13333333333334\n",
      "x =  [-5529.29670782  1284.34855967   -20.04156379   -98.13333333]\n",
      "«Расчеты»,= 120\n",
      "Check if A was unchanged \n",
      "Eliminated augmented matrix:\n",
      " None\n"
     ]
    },
    {
     "ename": "TypeError",
     "evalue": "'NoneType' object is not subscriptable",
     "output_type": "error",
     "traceback": [
      "\u001b[1;31m---------------------------------------------------------------------------\u001b[0m",
      "\u001b[1;31mTypeError\u001b[0m                                 Traceback (most recent call last)",
      "\u001b[1;32mC:\\Users\\1B72~1\\AppData\\Local\\Temp/ipykernel_5608/2839453006.py\u001b[0m in \u001b[0;36m<module>\u001b[1;34m\u001b[0m\n\u001b[0;32m     11\u001b[0m \u001b[0mprint\u001b[0m\u001b[1;33m(\u001b[0m\u001b[1;34mf'Check if A was unchanged '\u001b[0m\u001b[1;33m)\u001b[0m\u001b[1;33m\u001b[0m\u001b[1;33m\u001b[0m\u001b[0m\n\u001b[0;32m     12\u001b[0m \u001b[0mprint\u001b[0m\u001b[1;33m(\u001b[0m\u001b[1;34mf'Eliminated augmented matrix:\\n {Ae}'\u001b[0m\u001b[1;33m)\u001b[0m\u001b[1;33m\u001b[0m\u001b[1;33m\u001b[0m\u001b[0m\n\u001b[1;32m---> 13\u001b[1;33m \u001b[0mprint\u001b[0m\u001b[1;33m(\u001b[0m\u001b[1;34mf'Eliminated augmented matrix A part: {Ae[:,:-1]}'\u001b[0m\u001b[1;33m)\u001b[0m\u001b[1;33m\u001b[0m\u001b[1;33m\u001b[0m\u001b[0m\n\u001b[0m\u001b[0;32m     14\u001b[0m \u001b[0mprint\u001b[0m\u001b[1;33m(\u001b[0m\u001b[1;34mf'Eliminated augmented matrix b part: {Ae[:,Ae.shape[1]-1]}'\u001b[0m\u001b[1;33m)\u001b[0m\u001b[1;33m\u001b[0m\u001b[1;33m\u001b[0m\u001b[0m\n\u001b[0;32m     15\u001b[0m \u001b[1;31m# Find solution\u001b[0m\u001b[1;33m\u001b[0m\u001b[1;33m\u001b[0m\u001b[1;33m\u001b[0m\u001b[0m\n",
      "\u001b[1;31mTypeError\u001b[0m: 'NoneType' object is not subscriptable"
     ]
    }
   ],
   "source": [
    "A = np.arange(1, 17, dtype=np.float64).reshape(4,4)\n",
    "A[1,2] = 88\n",
    "A[1,3] = -3\n",
    "A[2,3] = -3\n",
    "print(f'A = {A}')\n",
    "x = np.ones(A.shape[0])\n",
    "print(f'Original x = {x}')\n",
    "b = A @ x.T\n",
    "print(f'Right hand side for testing: b = {b}')\n",
    "Ae = gaussian(A, b)\n",
    "print(f'Check if A was unchanged ')\n",
    "print(f'Eliminated augmented matrix:\\n {Ae}')\n",
    "print(f'Eliminated augmented matrix A part: {Ae[:,:-1]}')\n",
    "print(f'Eliminated augmented matrix b part: {Ae[:,Ae.shape[1]-1]}')\n",
    "# Find solution\n",
    "x = back(Ae[:,:-1],Ae[:,Ae.shape[1]-1])\n",
    "print(f'Solution: {x}')"
   ]
  },
  {
   "cell_type": "code",
   "execution_count": 40,
   "metadata": {},
   "outputs": [
    {
     "name": "stderr",
     "output_type": "stream",
     "text": [
      "<>:2: SyntaxWarning: list indices must be integers or slices, not tuple; perhaps you missed a comma?\n",
      "<>:2: SyntaxWarning: list indices must be integers or slices, not tuple; perhaps you missed a comma?\n",
      "C:\\Users\\1B72~1\\AppData\\Local\\Temp/ipykernel_5608/1517465407.py:2: SyntaxWarning: list indices must be integers or slices, not tuple; perhaps you missed a comma?\n",
      "  matrix = ([ 1,  2,  3,  4.]\n"
     ]
    }
   ],
   "source": [
    "def make_identity(matrix):\n",
    "    matrix = ([ 1,  2,  3,  4.]\n",
    "    [ 5,  6, 88, -3.]\n",
    "    [ 9, 10, 11, -3.]\n",
    "    [13, 14, 15, 16.])\n",
    "    # перебор строк в обратном порядке \n",
    "    for nrow in range(len(matrix)-1,0,-1):\n",
    "        row = matrix[nrow]\n",
    "        for upper_row in matrix[:nrow]:\n",
    "            factor = upper_row[nrow]\n",
    "            upper_row -= factor*row\n",
    "    return matrix"
   ]
  }
 ],
 "metadata": {
  "interpreter": {
   "hash": "744f09b387bbb0f9e71bd92782b46d7d9cb5eb435d734955ea16ad78a2643f3b"
  },
  "kernelspec": {
   "display_name": "Python 3.8.8 64-bit",
   "language": "python",
   "name": "python3"
  },
  "language_info": {
   "codemirror_mode": {
    "name": "ipython",
    "version": 3
   },
   "file_extension": ".py",
   "mimetype": "text/x-python",
   "name": "python",
   "nbconvert_exporter": "python",
   "pygments_lexer": "ipython3",
   "version": "3.8.8"
  },
  "orig_nbformat": 4
 },
 "nbformat": 4,
 "nbformat_minor": 2
}
