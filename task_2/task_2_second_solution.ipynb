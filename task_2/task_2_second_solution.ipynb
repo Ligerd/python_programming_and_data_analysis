{
 "cells": [
  {
   "cell_type": "code",
   "execution_count": 31,
   "metadata": {},
   "outputs": [],
   "source": [
    "import itertools\n",
    "import gmpy2"
   ]
  },
  {
   "cell_type": "code",
   "execution_count": 19,
   "id": "4af6f762",
   "metadata": {},
   "outputs": [],
   "source": [
    "primeg = (x for x in itertools.count(2) if gmpy2.is_prime(x))"
   ]
  },
  {
   "cell_type": "code",
   "execution_count": 44,
   "metadata": {},
   "outputs": [
    {
     "name": "stdout",
     "output_type": "stream",
     "text": [
      "89\n"
     ]
    }
   ],
   "source": [
    "print(next(primeg))"
   ]
  },
  {
   "cell_type": "code",
   "execution_count": 51,
   "id": "57103cc1",
   "metadata": {},
   "outputs": [
    {
     "name": "stdout",
     "output_type": "stream",
     "text": [
      "127\n"
     ]
    }
   ],
   "source": [
    "print(next(primeg))"
   ]
  },
  {
   "cell_type": "code",
   "execution_count": null,
   "id": "7c0b3311",
   "metadata": {},
   "outputs": [],
   "source": [
    "def myprimef():\n",
    "    primes = []\n",
    "    i = 2\n",
    "    while True:\n",
    "        prime = True\n",
    "        for p in primes:\n",
    "            if not (i % p):\n",
    "                prime = False\n",
    "                break\n",
    "        if prime:\n",
    "            yield i\n",
    "            primes.append(i)\n",
    "        i += 1                 \n",
    "myprimef()\n",
    "t = myprimef()\n",
    "print(next(t))\n",
    "print(next(t))\n",
    "print(next(t))\n",
    "print(next(t))\n"
   ]
  },
  {
   "cell_type": "code",
   "execution_count": 106,
   "id": "6b52d1d8",
   "metadata": {},
   "outputs": [],
   "source": [
    "class MyPrimeC(object):\n",
    "    def __init__(self):\n",
    "        self.prime_numbers = []\n",
    "        self.i = 2\n",
    "    def __iter__(self):\n",
    "        return self\n",
    "\n",
    "    def __next__(self):\n",
    "        while True:\n",
    "            prime = True\n",
    "            for p in self.prime_numbers:\n",
    "                if not (self.i % p):\n",
    "                    prime = False\n",
    "                    break\n",
    "            if prime:\n",
    "                self.prime_numbers.append(self.i)\n",
    "                return self.i\n",
    "            self.i += 1 "
   ]
  },
  {
   "cell_type": "code",
   "execution_count": 107,
   "id": "4629cd4a",
   "metadata": {},
   "outputs": [
    {
     "name": "stdout",
     "output_type": "stream",
     "text": [
      "2\n"
     ]
    }
   ],
   "source": [
    "x = MyPrimeC()\n",
    "print(next(x))"
   ]
  },
  {
   "cell_type": "code",
   "execution_count": 114,
   "id": "58891e40",
   "metadata": {},
   "outputs": [],
   "source": [
    "def isprime(num):\n",
    "    if num==2 or num==3:\n",
    "        return True\n",
    "    if num%2==0 or num<2:\n",
    "        return False\n",
    "    for n in range(3,int(num**0.5)+1,2):   \n",
    "        if num%n==0:\n",
    "            return False   \n",
    "    return True"
   ]
  },
  {
   "cell_type": "code",
   "execution_count": null,
   "id": "cb715a96",
   "metadata": {},
   "outputs": [],
   "source": [
    "for i in range(100):\n",
    "    f = next(x)\n",
    "    print(f\"{f} is prime: {isprime(f)}\")"
   ]
  },
  {
   "cell_type": "code",
   "execution_count": 116,
   "id": "2350c523",
   "metadata": {},
   "outputs": [],
   "source": [
    "class Line(object):\n",
    "    def __init__(self,coor1,coor2):         \n",
    "        self.x1, self.y1 = coor1\n",
    "        self.x2, self.y2 = coor2\n",
    "\n",
    "    def distance(self):\n",
    "        return ((self.x2 - self.x1)**2 + (self.y2 - self.y1)**2) ** (0.5)                \n",
    "    \n",
    "    def slope(self):\n",
    "        return (self.y2 - self.y1)/(self.x2 - self.x1)                 "
   ]
  },
  {
   "cell_type": "code",
   "execution_count": 117,
   "id": "f6082b6d",
   "metadata": {},
   "outputs": [
    {
     "data": {
      "text/plain": [
       "1.6"
      ]
     },
     "execution_count": 117,
     "metadata": {},
     "output_type": "execute_result"
    }
   ],
   "source": [
    "coor1 = (3,2) \n",
    "coor2 = (8,10)\n",
    "li = Line(coor1,coor2)\n",
    "li.distance()\n",
    "li.slope()\n"
   ]
  },
  {
   "cell_type": "code",
   "execution_count": 69,
   "id": "8ad2d66e",
   "metadata": {},
   "outputs": [],
   "source": [
    "import math\n"
   ]
  },
  {
   "cell_type": "code",
   "execution_count": 90,
   "id": "d5b209d4",
   "metadata": {},
   "outputs": [],
   "source": [
    "class Cylinder(object):\n",
    "    def __init__(self,height,radius):\n",
    "        self.height = height\n",
    "        self.radius = radius\n",
    "    \n",
    "    def volume(self):\n",
    "        return (math.pi * self.radius**2 * self.height)          \n",
    "    \n",
    "    def surface_area(self):\n",
    "        return (2*math.pi*self.radius**2 + 2*math.pi*self.radius*self.height)"
   ]
  },
  {
   "cell_type": "code",
   "execution_count": null,
   "id": "5bef6e7c",
   "metadata": {},
   "outputs": [],
   "source": [
    "c = Cylinder(2,3) \n",
    "c.volume() \n",
    "c.surface_area() "
   ]
  },
  {
   "cell_type": "code",
   "execution_count": 174,
   "id": "ba9955c1",
   "metadata": {},
   "outputs": [],
   "source": [
    "class DataFile(object): \n",
    "    def __init__(self, filename='undef'):\n",
    "        self.filename = filename\n",
    "        M2 = []\n",
    "        with open(self.filename, \"r\") as f:\n",
    "            for line in f:\n",
    "                lines = line.split(';')\n",
    "                lines = line.rstrip()\n",
    "                print(lines)        \n",
    "        # lst = []\n",
    "        # for ln in lines:\n",
    "        #     ln = ln.rstrip()\n",
    "        #     if ln != '':\n",
    "        #         num = str(ln) \n",
    "        #         lst = lst + [num] \n",
    "\n",
    "        # M2 = M2 + [lst] \n",
    "        # print(\"M2 = \", M2)\n",
    "    def info(self):\n",
    "        \n",
    "        return self\n",
    "    \n",
    "    def avg(self, colnum=0, colname=''):    \n",
    "        pass\n",
    "\n",
    "    def min(self, colnum=0, colname=''):                  \n",
    "        pass\n",
    "    \n",
    "    def max(self, colnum=0, colname=''):       \n",
    "        pass\n",
    "    \n",
    "    def distinc(self, colnum=0, colname=''):     \n",
    "         \"Counts distinct number of values in a given column.\"     "
   ]
  },
  {
   "cell_type": "code",
   "execution_count": 175,
   "id": "8fe63b69",
   "metadata": {},
   "outputs": [
    {
     "name": "stdout",
     "output_type": "stream",
     "text": [
      "Name;Age;Weight;Height\n",
      "John;6;25;123\n",
      "Mary;4;18;98\n",
      "Jack;8;32;138\n"
     ]
    },
    {
     "data": {
      "text/plain": [
       "<__main__.DataFile at 0xc43dce3ac0>"
      ]
     },
     "execution_count": 175,
     "metadata": {},
     "output_type": "execute_result"
    }
   ],
   "source": [
    "df = DataFile('myfile.csv')\n",
    "df.info()\n"
   ]
  }
 ],
 "metadata": {
  "interpreter": {
   "hash": "8d402f38c40a0eb52b8ceca51be74b39325c4cfbb6691029b7c2da73b82183e7"
  },
  "kernelspec": {
   "display_name": "Python 3.8.8 ('venv': venv)",
   "language": "python",
   "name": "python3"
  },
  "language_info": {
   "codemirror_mode": {
    "name": "ipython",
    "version": 3
   },
   "file_extension": ".py",
   "mimetype": "text/x-python",
   "name": "python",
   "nbconvert_exporter": "python",
   "pygments_lexer": "ipython3",
   "version": "3.8.8"
  },
  "orig_nbformat": 4
 },
 "nbformat": 4,
 "nbformat_minor": 2
}
