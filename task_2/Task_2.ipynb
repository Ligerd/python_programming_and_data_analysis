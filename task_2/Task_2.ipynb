{
 "cells": [
  {
   "cell_type": "code",
   "execution_count": 3,
   "id": "5b86a95a",
   "metadata": {},
   "outputs": [],
   "source": [
    "import math\n",
    "from collections import Counter\n",
    "import itertools\n",
    "import gmpy2"
   ]
  },
  {
   "cell_type": "markdown",
   "id": "ba02bbcf",
   "metadata": {},
   "source": [
    "# Task 1"
   ]
  },
  {
   "cell_type": "code",
   "execution_count": 4,
   "id": "74248c20",
   "metadata": {},
   "outputs": [],
   "source": [
    "def gen_primes():\n",
    "    dict_for_primes = {}\n",
    "    prime = 2\n",
    "    while True:\n",
    "        if prime not in dict_for_primes:\n",
    "            yield prime\n",
    "            dict_for_primes[prime * prime] = [prime]\n",
    "        else:\n",
    "            for p in dict_for_primes[prime]:\n",
    "                dict_for_primes.setdefault(p + prime, []).append(p)\n",
    "            del dict_for_primes[prime]\n",
    "        \n",
    "        prime += 1"
   ]
  },
  {
   "cell_type": "code",
   "execution_count": 5,
   "id": "6bee9835",
   "metadata": {},
   "outputs": [],
   "source": [
    "f = gen_primes()"
   ]
  },
  {
   "cell_type": "code",
   "execution_count": 9,
   "id": "4fc39d27",
   "metadata": {},
   "outputs": [
    {
     "data": {
      "text/plain": [
       "7"
      ]
     },
     "execution_count": 9,
     "metadata": {},
     "output_type": "execute_result"
    }
   ],
   "source": [
    "next(f)"
   ]
  },
  {
   "cell_type": "code",
   "execution_count": 10,
   "id": "c7b35a19",
   "metadata": {},
   "outputs": [],
   "source": [
    "class MyPrimeC:\n",
    "    def __init__(self):\n",
    "        self.dict_for_primes = {}\n",
    "        self.prime = 2\n",
    "        \n",
    "    def __next__(self):\n",
    "        while True:\n",
    "            if self.prime not in self.dict_for_primes:\n",
    "                self.dict_for_primes[self.prime * self.prime] = [self.prime]\n",
    "                value_to_return = self.prime\n",
    "                self.prime += 1\n",
    "                return value_to_return\n",
    "            else:\n",
    "                for p in self.dict_for_primes[self.prime]:\n",
    "                    self.dict_for_primes.setdefault(p + self.prime, []).append(p)\n",
    "                del self.dict_for_primes[self.prime]\n",
    "                self.prime += 1\n",
    "    \n",
    "    def __iter__(self):\n",
    "        return self"
   ]
  },
  {
   "cell_type": "code",
   "execution_count": 11,
   "id": "9772fa2b",
   "metadata": {},
   "outputs": [],
   "source": [
    "f = MyPrimeC()"
   ]
  },
  {
   "cell_type": "code",
   "execution_count": 26,
   "id": "ea2173c9",
   "metadata": {},
   "outputs": [
    {
     "data": {
      "text/plain": [
       "17"
      ]
     },
     "execution_count": 26,
     "metadata": {},
     "output_type": "execute_result"
    }
   ],
   "source": [
    "next(f)"
   ]
  },
  {
   "cell_type": "code",
   "execution_count": 18,
   "id": "f570ab77",
   "metadata": {},
   "outputs": [],
   "source": [
    "primeg = (x for x in itertools.count(2) if gmpy2.is_prime(x))"
   ]
  },
  {
   "cell_type": "code",
   "execution_count": 25,
   "id": "80be3823",
   "metadata": {},
   "outputs": [
    {
     "data": {
      "text/plain": [
       "17"
      ]
     },
     "execution_count": 25,
     "metadata": {},
     "output_type": "execute_result"
    }
   ],
   "source": [
    "next(primeg)"
   ]
  },
  {
   "cell_type": "markdown",
   "id": "780cbbea",
   "metadata": {},
   "source": [
    "# Task 2"
   ]
  },
  {
   "cell_type": "code",
   "execution_count": 28,
   "id": "d52c5cb5",
   "metadata": {},
   "outputs": [],
   "source": [
    "class Line:\n",
    "    def __init__(self, coor1, coor2):\n",
    "        self.x1, self.y1 = coor1\n",
    "        self.x2, self.y2 = coor2\n",
    "    \n",
    "    def distance(self):\n",
    "        return math.hypot(self.x2-self.x1, self.y2-self.y1)\n",
    "    \n",
    "    def slope(self):\n",
    "        return (self.y2-self.y1)/(self.x2-self.x1)"
   ]
  },
  {
   "cell_type": "code",
   "execution_count": 30,
   "id": "6e68f971",
   "metadata": {},
   "outputs": [
    {
     "name": "stdout",
     "output_type": "stream",
     "text": [
      "9.433981132056603\n",
      "1.6\n"
     ]
    }
   ],
   "source": [
    "li = Line((3,2),(8,10))\n",
    "print(li.distance())\n",
    "print(li.slope())"
   ]
  },
  {
   "cell_type": "markdown",
   "id": "9fc1a5d4",
   "metadata": {},
   "source": [
    "# Task 3"
   ]
  },
  {
   "cell_type": "code",
   "execution_count": 31,
   "id": "cd13fd4d",
   "metadata": {},
   "outputs": [],
   "source": [
    "class Cylinder:\n",
    "    def __init__(self, height = 1, radius = 1):\n",
    "        self.height = height\n",
    "        self.radius = radius\n",
    "    \n",
    "    def volume(self):\n",
    "        return math.pi * math.pow(self.radius,2) * self.height\n",
    "    \n",
    "    def surface_area(self):\n",
    "        return 2 * math.pi* self.radius * (self.radius + self.height)"
   ]
  },
  {
   "cell_type": "code",
   "execution_count": 32,
   "id": "8f840a67",
   "metadata": {},
   "outputs": [
    {
     "name": "stdout",
     "output_type": "stream",
     "text": [
      "56.548667764616276\n",
      "94.24777960769379\n"
     ]
    }
   ],
   "source": [
    "c = Cylinder(2,3)\n",
    "print(c.volume())\n",
    "print(c.surface_area())"
   ]
  },
  {
   "cell_type": "markdown",
   "id": "b70e233a",
   "metadata": {},
   "source": [
    "# Task 4"
   ]
  },
  {
   "cell_type": "code",
   "execution_count": 33,
   "id": "85ed7760",
   "metadata": {},
   "outputs": [],
   "source": [
    "class DataFile:\n",
    "    def __init__(self, filename='undef'):\n",
    "        self.array2D = []\n",
    "        self.header = []\n",
    "        self._read_file(filename)\n",
    "        self.array2D = list(zip(*self.array2D))\n",
    "    \n",
    "    def _read_file(self, filename):\n",
    "        if not filename or filename == 'undef':\n",
    "            raise Exception(\"Not defined filename\")   \n",
    "        try:\n",
    "            file = open(filename, \"r\" , encoding='utf8')\n",
    "            for line in file.read().splitlines():\n",
    "                if not self.header:\n",
    "                    self.header = line.split(';')\n",
    "                else:\n",
    "                    self.array2D.append(map(DataFile.maybeMakeNumber, line.split(';')))\n",
    "        except Exception: \n",
    "            raise Exception(\"Something go wrong while opening file\")\n",
    "        finally:\n",
    "            file.close()\n",
    "        \n",
    "    @staticmethod\n",
    "    def maybeMakeNumber(s):\n",
    "        if not s:\n",
    "            return s\n",
    "        try:\n",
    "            f = float(s)\n",
    "            i = int(f)\n",
    "            return i if f == i else f\n",
    "        except ValueError:\n",
    "            return s\n",
    "    \n",
    "    def _is_values_number(self, column: tuple)-> bool:\n",
    "        return type(column[0])==int or type(column[0])== float \n",
    "    \n",
    "    def info(self):\n",
    "        print('{:10s} {:10s} {:10s} {:10s} {:10s} '.format(\"\",\"Min\",\"Max\",\"Avg\", \"Distinct\"))\n",
    "        for index, column in enumerate(self.header):\n",
    "            print(f\"{column:<10} {self.min(index):<10} {self.max(index):<10} {self.avg(index):<10} {self.distinc(index):<10}\")  \n",
    "    \n",
    "    def avg(self, colnum=0, colname=''):\n",
    "        def avg_of_iterable(index):\n",
    "            if self._is_values_number(self.array2D[index]):\n",
    "                return round(sum(self.array2D[index])/len(self.array2D[index]),2)\n",
    "            else:\n",
    "                return \"-\"\n",
    "        return avg_of_iterable(index = self.header.index(colname)) if colname else  avg_of_iterable(index=colnum)\n",
    "    \n",
    "    def min(self, colnum=0, colname=''):\n",
    "        def min_of_iterable(index):\n",
    "            if self._is_values_number(self.array2D[index]):\n",
    "                return round(min(self.array2D[index]),2)\n",
    "            else:\n",
    "                return \"-\"\n",
    "        return min_of_iterable(index = self.header.index(colname)) if colname else min_of_iterable(index=colnum)\n",
    "    \n",
    "    def max(self, colnum=0, colname=''):\n",
    "        def max_of_iterable(index):\n",
    "            if self._is_values_number(self.array2D[index]):\n",
    "                return round(max(self.array2D[index]),2)\n",
    "            else:\n",
    "                return \"-\"\n",
    "        return max_of_iterable(index = self.header.index(colname)) if colname else max_of_iterable(index=colnum)\n",
    "    \n",
    "    def distinc(self, colnum=0, colname=''):\n",
    "        return len(Counter(self.array2D[self.header.index(colname)]).keys()) if colname else len(Counter(self.array2D[colnum]).keys()) "
   ]
  },
  {
   "cell_type": "code",
   "execution_count": 34,
   "id": "cb1c497b",
   "metadata": {},
   "outputs": [],
   "source": [
    "df = DataFile(\"data.txt\")"
   ]
  },
  {
   "cell_type": "code",
   "execution_count": 35,
   "id": "7d32c0ef",
   "metadata": {},
   "outputs": [
    {
     "name": "stdout",
     "output_type": "stream",
     "text": [
      "           Min        Max        Avg        Distinct   \n",
      "Name       -          -          -          3         \n",
      "Age        4          8          6.0        3         \n",
      "Weight     18         32         25.0       3         \n",
      "Height     98         138        119.67     3         \n"
     ]
    }
   ],
   "source": [
    "df.info()"
   ]
  }
 ],
 "metadata": {
  "kernelspec": {
   "display_name": "Python 3 (ipykernel)",
   "language": "python",
   "name": "python3"
  },
  "language_info": {
   "codemirror_mode": {
    "name": "ipython",
    "version": 3
   },
   "file_extension": ".py",
   "mimetype": "text/x-python",
   "name": "python",
   "nbconvert_exporter": "python",
   "pygments_lexer": "ipython3",
   "version": "3.8.10"
  }
 },
 "nbformat": 4,
 "nbformat_minor": 5
}
