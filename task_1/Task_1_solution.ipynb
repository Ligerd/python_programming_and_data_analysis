{
 "cells": [
  {
   "cell_type": "code",
   "execution_count": 3,
   "id": "06132d0d",
   "metadata": {},
   "outputs": [],
   "source": [
    "import math"
   ]
  },
  {
   "cell_type": "markdown",
   "id": "75adb5a6",
   "metadata": {},
   "source": [
    "## 1\n",
    "What is 7 to the power of 4?"
   ]
  },
  {
   "cell_type": "code",
   "execution_count": 4,
   "id": "2b00fdff",
   "metadata": {},
   "outputs": [
    {
     "data": {
      "text/plain": [
       "2401.0"
      ]
     },
     "execution_count": 4,
     "metadata": {},
     "output_type": "execute_result"
    }
   ],
   "source": [
    "math.pow(7,4)"
   ]
  },
  {
   "cell_type": "markdown",
   "id": "803f4fc8",
   "metadata": {},
   "source": [
    "# 2\n",
    "Split this string:\n",
    "s = \"Hi there Sam!\"\n",
    "into a list and replace Sam with dad."
   ]
  },
  {
   "cell_type": "code",
   "execution_count": 7,
   "id": "0a7825f7",
   "metadata": {},
   "outputs": [],
   "source": [
    "def split_dummy_string(s:str)->list:\n",
    "    return s.replace(\"Sam\",\"dad\").split(\" \")"
   ]
  },
  {
   "cell_type": "code",
   "execution_count": 8,
   "id": "2585cfd4",
   "metadata": {},
   "outputs": [
    {
     "data": {
      "text/plain": [
       "['Hi', 'there', 'dad!']"
      ]
     },
     "execution_count": 8,
     "metadata": {},
     "output_type": "execute_result"
    }
   ],
   "source": [
    "split_dummy_string(\"Hi there Sam!\")"
   ]
  },
  {
   "cell_type": "markdown",
   "id": "83e9419c",
   "metadata": {},
   "source": [
    "# 3\n",
    "Given the variables:\n",
    "planet = \"Earth\"\n",
    "diameter = 12742\n",
    "Use .format() to print the following string:\n",
    "The diameter of Earth is 12742 kilometers.\n"
   ]
  },
  {
   "cell_type": "code",
   "execution_count": 11,
   "id": "1c6574b9",
   "metadata": {},
   "outputs": [],
   "source": [
    "def dummy_print(planet:str, diameter:int):\n",
    "    #Ziomek z Google Brett Slatkin poleca: wybieranie interpolowane ciągi tekstowe f zamiast ciągów tekstowych\n",
    "    # zamiast ciągów tekstowych formatowania w stylu C i funkcji str.format()\n",
    "    print('The diameter of {} is {} kilometers.'.format(planet,diameter))"
   ]
  },
  {
   "cell_type": "code",
   "execution_count": 12,
   "id": "4b455a0d",
   "metadata": {},
   "outputs": [
    {
     "name": "stdout",
     "output_type": "stream",
     "text": [
      "The diameter of Earth is 12742 kilometers.\n"
     ]
    }
   ],
   "source": [
    "dummy_print(\"Earth\", 12742)"
   ]
  },
  {
   "cell_type": "markdown",
   "id": "2b21ef68",
   "metadata": {},
   "source": [
    "# 4\n",
    "Given this nested list, use indexing to grab the word \"hello\"\n",
    "lst = [1,2,[3,4],[5,[100,200,['hello']],23,11],1,7]"
   ]
  },
  {
   "cell_type": "code",
   "execution_count": 29,
   "id": "75f31df4",
   "metadata": {},
   "outputs": [
    {
     "data": {
      "text/plain": [
       "'hello'"
      ]
     },
     "execution_count": 29,
     "metadata": {},
     "output_type": "execute_result"
    }
   ],
   "source": [
    "def dummy_return_from_list(dummy_list: list)->str:\n",
    "    return dummy_list[3][1][2][0]\n",
    "dummy_return_from_list([1,2,[3,4],[5,[100,200,['hello']],23,11],1,7])"
   ]
  },
  {
   "cell_type": "markdown",
   "id": "2673c98b",
   "metadata": {},
   "source": [
    "# 5\n",
    "Given this nested dictionary grab the word \"hello\". Be prepared, this will be annoying/tricky\n",
    "d = {'k1':[1,2,3,{'tricky':['oh','man','inception',{'target':[1,2,3,'hello']}]}]}"
   ]
  },
  {
   "cell_type": "code",
   "execution_count": 40,
   "id": "37aad7e4",
   "metadata": {},
   "outputs": [
    {
     "data": {
      "text/plain": [
       "'hello'"
      ]
     },
     "execution_count": 40,
     "metadata": {},
     "output_type": "execute_result"
    }
   ],
   "source": [
    "def dummy_return_from_dict(dummy_dict: dict)->str:\n",
    "    return dummy_dict.get('k1')[-1].get('tricky')[-1].get('target')[-1]\n",
    "dummy_return_from_dict({'k1':[1,2,3,{'tricky':['oh','man','inception',{'target':[1,2,3,'hello']}]}]})"
   ]
  },
  {
   "cell_type": "markdown",
   "id": "13d32293",
   "metadata": {},
   "source": [
    "# 6\n",
    "What is the main difference between a tuple and a list? Intentionally generate an error by changing a tuple value."
   ]
  },
  {
   "cell_type": "code",
   "execution_count": 43,
   "id": "24ab2b2c",
   "metadata": {},
   "outputs": [
    {
     "ename": "TypeError",
     "evalue": "'tuple' object does not support item assignment",
     "output_type": "error",
     "traceback": [
      "\u001b[0;31m---------------------------------------------------------------------------\u001b[0m",
      "\u001b[0;31mTypeError\u001b[0m                                 Traceback (most recent call last)",
      "Input \u001b[0;32mIn [43]\u001b[0m, in \u001b[0;36m<cell line: 4>\u001b[0;34m()\u001b[0m\n\u001b[1;32m      1\u001b[0m \u001b[38;5;66;03m#The key difference between the tuples and lists is that while the tuples \u001b[39;00m\n\u001b[1;32m      2\u001b[0m \u001b[38;5;66;03m#are immutable objects the lists are mutable.\u001b[39;00m\n\u001b[1;32m      3\u001b[0m dummy_tuple \u001b[38;5;241m=\u001b[39m (\u001b[38;5;124m'\u001b[39m\u001b[38;5;124mtest1\u001b[39m\u001b[38;5;124m'\u001b[39m,\u001b[38;5;124m'\u001b[39m\u001b[38;5;124mtest2\u001b[39m\u001b[38;5;124m'\u001b[39m)\n\u001b[0;32m----> 4\u001b[0m dummy_tuple[\u001b[38;5;241m1\u001b[39m]\u001b[38;5;241m=\u001b[39m\u001b[38;5;124m\"\u001b[39m\u001b[38;5;124mtest3\u001b[39m\u001b[38;5;124m\"\u001b[39m\n",
      "\u001b[0;31mTypeError\u001b[0m: 'tuple' object does not support item assignment"
     ]
    }
   ],
   "source": [
    "#The key difference between the tuples and lists is that while the tuples \n",
    "#are immutable objects the lists are mutable.\n",
    "dummy_tuple = ('test1','test2')\n",
    "dummy_tuple[1]=\"test3\""
   ]
  },
  {
   "cell_type": "markdown",
   "id": "c0a92ad6",
   "metadata": {},
   "source": [
    "# 7\n",
    "Create a function that grabs the email website domain from a string in the form:\n",
    "super_user@ee.pw.edu.pl\n",
    "So for example, passing \"super_user@ee.pw.edu.pl\" would return: ee.pw.edu.pl"
   ]
  },
  {
   "cell_type": "code",
   "execution_count": 45,
   "id": "c5cb61cf",
   "metadata": {},
   "outputs": [
    {
     "data": {
      "text/plain": [
       "'ee.pw.edu.pl'"
      ]
     },
     "execution_count": 45,
     "metadata": {},
     "output_type": "execute_result"
    }
   ],
   "source": [
    "def grab_domain_from_email(email: str) -> str:\n",
    "    return email.split(\"@\")[-1]\n",
    "grab_domain_from_email(\"super_user@ee.pw.edu.pl\")"
   ]
  },
  {
   "cell_type": "markdown",
   "id": "db4be336",
   "metadata": {},
   "source": [
    "# 8\n",
    "Create a basic function that returns True if the word 'car' is contained in the input string. Don't worry about edge cases like a punctuation being attached to the word car, but do account for capitalization."
   ]
  },
  {
   "cell_type": "code",
   "execution_count": 54,
   "id": "c597a2c1",
   "metadata": {},
   "outputs": [
    {
     "name": "stdout",
     "output_type": "stream",
     "text": [
      "False\n",
      "True\n"
     ]
    }
   ],
   "source": [
    "def look_for_car(s: str) -> bool:\n",
    "    return True if \"car\" in s else False\n",
    "print(look_for_car(\"sdasad wqeqw caR\"))\n",
    "print(look_for_car(\"sdasad wqeqw car\"))"
   ]
  },
  {
   "cell_type": "markdown",
   "id": "41f6f88a",
   "metadata": {},
   "source": [
    "# 9\n",
    "Create a function that counts the number of times the word \"car\" occurs in a string. Again ignore edge cases.\n",
    "Example:\n",
    "countCar('This car runs faster than the other car dude!')\n",
    "2"
   ]
  },
  {
   "cell_type": "code",
   "execution_count": 58,
   "id": "f0a7b22b",
   "metadata": {},
   "outputs": [
    {
     "name": "stdout",
     "output_type": "stream",
     "text": [
      "0\n",
      "2\n"
     ]
    }
   ],
   "source": [
    "def countCar(s: str) -> int:\n",
    "    return s.count(\"car\")\n",
    "print(countCar(\"sdasad wqeqw caR\"))\n",
    "print(countCar('This car runs faster than the other car dude!'))"
   ]
  },
  {
   "cell_type": "markdown",
   "id": "85d603bc",
   "metadata": {},
   "source": [
    "# 10\n",
    "Use lambda expressions and the filter() function to filter out words from a list that don't start with the letter 's'. For example:\n",
    "seq = ['soup','dog','salad','cat','great']\n",
    "should be filtered down to:\n",
    "['soup','salad']"
   ]
  },
  {
   "cell_type": "code",
   "execution_count": 61,
   "id": "81a2913e",
   "metadata": {},
   "outputs": [
    {
     "data": {
      "text/plain": [
       "['soup', 'salad']"
      ]
     },
     "execution_count": 61,
     "metadata": {},
     "output_type": "execute_result"
    }
   ],
   "source": [
    "def dummy_filter(some_list:list) -> list:\n",
    "    return list(filter(lambda some_str: some_str.startswith('s'), some_list))\n",
    "dummy_filter(['soup','dog','salad','cat','great'] )"
   ]
  },
  {
   "cell_type": "markdown",
   "id": "3cee31b8",
   "metadata": {},
   "source": [
    "# 11 \n",
    "Too fast problem\n",
    "\n",
    "You are driving a little too fast, and a police officer stops you. Write a function to return one of 3 possible results: \"No ticket\", \"Small ticket\", or \"Big Ticket\". If your speed is 60 or less, the result is \"No Ticket\". If speed is between 61 and 80 inclusive, the result is \"Small Ticket\". If speed is 81 or more, the result is \"Big Ticket\". Unless it is your birthday (encoded as a boolean value in the parameters of the function) -- on your birthday, your speed can be 5 higher in all cases."
   ]
  },
  {
   "cell_type": "code",
   "execution_count": 69,
   "id": "fcbb35a5",
   "metadata": {},
   "outputs": [
    {
     "name": "stdout",
     "output_type": "stream",
     "text": [
      "Big Ticket\n",
      "Small ticket\n"
     ]
    }
   ],
   "source": [
    "def caught_speeding(speed, is_birthday):\n",
    "    def speed_limits(min_limit, medium_limit):\n",
    "        if speed <= min_limit:\n",
    "            return \"No ticket\"\n",
    "        elif min_limit+1 < speed <= medium_limit:\n",
    "            return \"Small ticket\"\n",
    "        else:\n",
    "            return \"Big Ticket\"\n",
    "    if is_birthday:\n",
    "        return speed_limits(65,85)\n",
    "    else:\n",
    "        return speed_limits(60,80)\n",
    "    \n",
    "print(caught_speeding(81,False))\n",
    "print(caught_speeding(81,True))"
   ]
  },
  {
   "cell_type": "markdown",
   "id": "03356faf",
   "metadata": {},
   "source": [
    "# 12\n",
    "Write a function that counts how many digits and how many letters has a specified as an argument text file (test your program on the Ex1_HistoryfPoland.md file). You should print the number of digits and the number of letters in percents relative to all characters. Why the numbers do not sum up to 100%?"
   ]
  },
  {
   "cell_type": "code",
   "execution_count": null,
   "id": "20524201",
   "metadata": {},
   "outputs": [],
   "source": [
    "def count_digits_and_letters(filename: str) -> tuple:\n",
    "    with open(filename, encoding='utf8') as file:\n",
    "        content = file.read()\n",
    "        for "
   ]
  },
  {
   "cell_type": "markdown",
   "id": "3e053c29",
   "metadata": {},
   "source": [
    "# 13\n",
    "Write a function that counts the number of digits in each line of a text file. The file name should be given as an argument. Plot the distribution of number of digits with respect to line number using scatter plot function from matplotlib library. We just want to see in which parts of the file we get the concentration of digits. This might be a feature for analysis of textual files (NLP)."
   ]
  },
  {
   "cell_type": "code",
   "execution_count": null,
   "id": "8febeacc",
   "metadata": {},
   "outputs": [],
   "source": []
  }
 ],
 "metadata": {
  "kernelspec": {
   "display_name": "Python 3 (ipykernel)",
   "language": "python",
   "name": "python3"
  },
  "language_info": {
   "codemirror_mode": {
    "name": "ipython",
    "version": 3
   },
   "file_extension": ".py",
   "mimetype": "text/x-python",
   "name": "python",
   "nbconvert_exporter": "python",
   "pygments_lexer": "ipython3",
   "version": "3.8.10"
  }
 },
 "nbformat": 4,
 "nbformat_minor": 5
}
